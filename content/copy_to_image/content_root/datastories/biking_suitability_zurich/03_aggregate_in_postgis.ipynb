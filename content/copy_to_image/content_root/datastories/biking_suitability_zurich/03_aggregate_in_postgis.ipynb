{
 "cells": [
  {
   "cell_type": "markdown",
   "id": "9a56a7ae-e662-48d7-8f1a-62eeec0f1365",
   "metadata": {},
   "source": [
    "# Step 3 - Calculate the ratio of roads suitable for bikes per district"
   ]
  },
  {
   "cell_type": "markdown",
   "id": "0ef02505-d301-4d17-8254-a80a934fecda",
   "metadata": {},
   "source": [
    "PostGIS is more than just a database extension to store spatial data. It also allows for sophisticated data processing through many built-in spatial functions. In this section we will use PostGIS to process the road network and the district boundaries to get a new dataset that contains the ratio of roads suitable for bikes for each district.\n",
    "\n",
    "> Note: This section is not intended to be a tutorial for SQL, PostgreSQL or PostGIS. If you are interested in understanding the basics, we recommend to checkout [this tutorial for basic SQL (using PostgreSQL dialect)](https://www.postgresqltutorial.com/) and [this tutorial to learn about the power of the spatial extension PostGIS](https://postgis.net/workshops/postgis-intro/). For the most fun hands-on experience, follow the tutorials using the Sandbox pgAdmin query interface and experiment with the data we just loaded.\n",
    "\n",
    "**In a first step, let's describe what we want to do in plain text:**\n",
    "\n",
    "_For each district, we want to derive the ratio of total length of roads suitable for biking within that district divided by the total length of all roads within that district. To that end, we need to find the parts of the road network which intersect with each district. This needs to be done twice for all the roads and only the roads suitable for biking (which have attribute velo=1). We then want to sum up their lengths respectively and derive the ratio._\n",
    "\n",
    "**Let's now get a bit more technical using some PostgreSQL/PostGIS terminology:**\n",
    "1. Use `ST_Length` to derive the length of roads from their geometry.\n",
    "2. Get total road length per district using `GROUP BY`, `ST_Intersects` and `ST_Intersection`.\n",
    "3. Get total length of roads suitable for bikes per district by adding a condition to the `WHERE` clause.\n",
    "4. Combine the results of the previous steps using `WITH` and `JOIN` to derive the ratio of roads suitable for bikes."
   ]
  },
  {
   "cell_type": "markdown",
   "id": "0634ec08-c237-42de-96fb-0ad947acfa75",
   "metadata": {},
   "source": [
    "***\n",
    "**Your turn:**\n",
    "- Open pgAdmin, connect to the PostGIS database and make sure the road network and district datasets are available.\n",
    "- Open the pgAdmin query interface and follow along using the queries below.\n",
    "\n",
    "![check tables](./story_images/check_tables.gif)"
   ]
  },
  {
   "cell_type": "markdown",
   "id": "6f154ba4-f273-4112-baf6-ce2aa38c36f6",
   "metadata": {
    "tags": []
   },
   "source": [
    "***\n",
    "#### Use `ST_Length` to derive the length of roads from their geometry.\n",
    "\n",
    "Return the length for each of the 40k road network features in meters:\n",
    "```postgresql\n",
    "SELECT ST_Length(zh_roads.geom)\n",
    "FROM zh_roads;\n",
    "```\n",
    "\n",
    "Return the total length of all road network features in meters:\n",
    "```postgresql\n",
    "SELECT SUM(ST_Length(zh_roads.geom)) AS sum_total\n",
    "FROM zh_roads;\n",
    "```"
   ]
  },
  {
   "cell_type": "markdown",
   "id": "ced411ac-74a0-4e8d-9fb6-9bf737c5f2b8",
   "metadata": {},
   "source": [
    "***\n",
    "#### Get total road length per district using `GROUP BY`, `ST_Intersects` and `ST_Intersection`.\n",
    "\n",
    "SQL allows for arbitrary indentation, which is used in the following to make queries hopefully a little easier to understand. Return the length of all road network features in meters for each each district:\n",
    "```postgresql\n",
    "SELECT zh_districts.fid AS district_id, \n",
    "    SUM(ST_Length(ST_Intersection(zh_districts.geom,zh_roads.geom))) AS sum_total\n",
    "FROM zh_districts, zh_roads\n",
    "WHERE ST_Intersects(zh_districts.geom, zh_roads.geom)\n",
    "GROUP BY zh_districts.fid;\n",
    "```"
   ]
  },
  {
   "cell_type": "markdown",
   "id": "da0a586d-985d-480f-bdae-4df973217073",
   "metadata": {},
   "source": [
    "***\n",
    "#### Get total length of roads suitable for bikes per district using `WHERE` to filter for suitable roads.\n",
    "\n",
    "Return the length of all road network features in meters for each district and are suitable for bikes:\n",
    "```postgresql\n",
    "SELECT zh_districts.fid AS district_id, \n",
    "    SUM(ST_Length(ST_Intersection(zh_districts.geom,zh_roads.geom))) AS sum_bike\n",
    "FROM zh_districts, zh_roads\n",
    "WHERE ST_Intersects(zh_districts.geom, zh_roads.geom) \n",
    "    AND zh_roads.bike=1\n",
    "GROUP BY zh_districts.fid;\n",
    "```"
   ]
  },
  {
   "cell_type": "markdown",
   "id": "d1038bdd-87a6-4619-bd1e-24f298a7c36e",
   "metadata": {},
   "source": [
    "***\n",
    "#### Combine the results of the previous steps using `WITH` and `JOIN` to derive the ratio of roads suitable for bikes.\n",
    "\n",
    "As a next step we want to return both the total length per district as well as the length suitable for bikes. There are many ways to do this, but here we use a SQL feature called _Common Table Expression (CTE)_ that allows to create intermediary virtual tables that can be referenced in a subsequent query. Using the `WITH` keyword, we first create such intermediary tables from the two queries above called total_sum_table and bike_sum_table. These tables are joined with the zh_districts table on the feature id column (fid) in order to retrieve the district names and geometry. Run all the code below as a single query:\n",
    "```postgresql\n",
    "WITH sum_total_table AS (\n",
    "    SELECT zh_districts.fid, \n",
    "        SUM(ST_Length(ST_Intersection(zh_districts.geom,zh_roads.geom))) AS sum_total_table\n",
    "    FROM zh_districts, zh_roads\n",
    "    WHERE ST_Intersects(zh_districts.geom, zh_roads.geom)\n",
    "    GROUP BY zh_districts.fid\n",
    "),\n",
    "sum_bike_table AS (\n",
    "    SELECT zh_districts.fid, \n",
    "        SUM(ST_Length(ST_Intersection(zh_districts.geom,zh_roads.geom))) AS sum_bike\n",
    "    FROM zh_districts, zh_roads\n",
    "    WHERE ST_Intersects(zh_districts.geom, zh_roads.geom)\n",
    "        AND zh_roads.velo=1\n",
    "    GROUP BY zh_districts.fid\n",
    ")\n",
    "\n",
    "SELECT\n",
    "    zh_districts.fid AS district_id,\n",
    "    zh_districts.stzname AS zonenname, \n",
    "    sum_total_table.sum_total_table AS sum_total,\n",
    "    sum_bike_table.sum_bike AS sum_bike\n",
    "FROM zh_districts\n",
    "LEFT JOIN sum_total_table ON sum_total_table.fid = zh_districts.fid\n",
    "LEFT JOIN sum_bike_table ON sum_bike_table.fid = zh_districts.fid;\n",
    "```"
   ]
  },
  {
   "cell_type": "markdown",
   "id": "a2394da9-74d1-4ab1-9cea-5929bfd662fe",
   "metadata": {},
   "source": [
    "***\n",
    "Let's now add two more columns to the main `SELECT` clause which hold the ratio of road length suitable for bikes compared to total road length and the geometry of the districts:\n",
    "```postgresql\n",
    "WITH sum_total_table AS (\n",
    "    SELECT zh_districts.fid, \n",
    "        SUM(ST_Length(ST_Intersection(zh_districts.geom,zh_roads.geom))) AS sum_total_table\n",
    "    FROM zh_districts, zh_roads\n",
    "    WHERE ST_Intersects(zh_districts.geom, zh_roads.geom)\n",
    "    GROUP BY zh_districts.fid\n",
    "),\n",
    "sum_bike_table AS (\n",
    "    SELECT zh_districts.fid, \n",
    "        SUM(ST_Length(ST_Intersection(zh_districts.geom,zh_roads.geom))) AS sum_bike\n",
    "    FROM zh_districts, zh_roads\n",
    "    WHERE ST_Intersects(zh_districts.geom, zh_roads.geom)\n",
    "        AND zh_roads.velo=1\n",
    "    GROUP BY zh_districts.fid\n",
    ")\n",
    "\n",
    "SELECT\n",
    "    zh_districts.fid AS district_id,\n",
    "    zh_districts.stzname AS zonenname, \n",
    "    sum_total_table.sum_total_table AS sum_total,\n",
    "    sum_bike_table.sum_bike AS sum_bike,\n",
    "    sum_bike_table.sum_bike/sum_total_table.sum_total_table AS ratio_suitable,\n",
    "    zh_districts.geom AS geom\n",
    "FROM zh_districts\n",
    "LEFT JOIN sum_total_table ON sum_total_table.fid = zh_districts.fid\n",
    "LEFT JOIN sum_bike_table ON sum_bike_table.fid = zh_districts.fid;\n",
    "```"
   ]
  },
  {
   "cell_type": "markdown",
   "id": "1be74142-9d7e-41d6-a038-0b5d2d0b3c85",
   "metadata": {},
   "source": [
    "***\n",
    "**Congratulations! With these few lines you performed some non-trivial spatial processing and aggregation in PostGIS! For each district you now have the ratio of how much of the roads are suitable for bikes.** Of course the underlying methodology and assumptions might be oversimplified and could be improved, but this is a solid first prototype!"
   ]
  },
  {
   "cell_type": "code",
   "execution_count": null,
   "id": "b4325754-2a00-4c98-b69a-a2599acc48a9",
   "metadata": {},
   "outputs": [],
   "source": []
  }
 ],
 "metadata": {
  "kernelspec": {
   "display_name": "Python 3 (ipykernel)",
   "language": "python",
   "name": "python3"
  },
  "language_info": {
   "codemirror_mode": {
    "name": "ipython",
    "version": 3
   },
   "file_extension": ".py",
   "mimetype": "text/x-python",
   "name": "python",
   "nbconvert_exporter": "python",
   "pygments_lexer": "ipython3",
   "version": "3.8.10"
  }
 },
 "nbformat": 4,
 "nbformat_minor": 5
}
