{
 "cells": [
  {
   "cell_type": "markdown",
   "id": "9a56a7ae-e662-48d7-8f1a-62eeec0f1365",
   "metadata": {},
   "source": [
    "# Step 4 - Create a new dataset to share with coworkers"
   ]
  },
  {
   "cell_type": "markdown",
   "id": "0ef02505-d301-4d17-8254-a80a934fecda",
   "metadata": {},
   "source": [
    "In the previous section we created a query that returns all the data we wanted. It is now time to create a new dataset from the result of this query, which allows us and our coworkers to make us of this new data. An example could be to visualize it as a bike suitability map in QGIS.\n",
    "\n",
    "We will explore the following options how to achieve this:\n",
    "- Create a table from the results.\n",
    "- Create a view from the results.\n",
    "- Create a materialized view from the results."
   ]
  },
  {
   "cell_type": "markdown",
   "id": "3bf6fb32-1f2a-4106-99de-55d3689e832f",
   "metadata": {},
   "source": [
    "***\n",
    "# Create a table from the results\n",
    "Creating a new table from the results of a query is as easy as adding `CREATE TABLE <NEW_TABLE_NAME> AS` to the beginning of the query and executing it in the usual way. After refreshing the tables section (in pgAdmin right-click _Tables_ and select refresh) you will see a new table. The new table is independent from the data it was derived from and thus it does not change when the datasets that it was derived from change. The query used to create the new table is only used during the table creation and not stored as part of the table.\n",
    "\n",
    "```postgresql\n",
    "CREATE TABLE t_bike_suitability AS\n",
    "\n",
    "WITH sum_total_table AS (\n",
    "    SELECT zh_districts.fid, \n",
    "        SUM(ST_Length(ST_Intersection(zh_districts.geom,zh_roads.geom))) AS sum_total_table\n",
    "    FROM zh_districts, zh_roads\n",
    "    WHERE ST_Intersects(zh_districts.geom, zh_roads.geom)\n",
    "    GROUP BY zh_districts.fid\n",
    "),\n",
    "sum_bike_table AS (\n",
    "    SELECT zh_districts.fid, \n",
    "        SUM(ST_Length(ST_Intersection(zh_districts.geom,zh_roads.geom))) AS sum_bike\n",
    "    FROM zh_districts, zh_roads\n",
    "    WHERE ST_Intersects(zh_districts.geom, zh_roads.geom)\n",
    "        AND zh_roads.velo=1\n",
    "    GROUP BY zh_districts.fid\n",
    ")\n",
    "\n",
    "SELECT\n",
    "    zh_districts.fid AS district_id,\n",
    "    zh_districts.stzname AS zonenname, \n",
    "    sum_total_table.sum_total_table AS sum_total,\n",
    "    sum_bike_table.sum_bike AS sum_bike,\n",
    "    sum_bike_table.sum_bike/sum_total_table.sum_total_table AS ratio_suitable,\n",
    "    zh_districts.geom AS geom\n",
    "FROM zh_districts\n",
    "LEFT JOIN sum_total_table ON sum_total_table.fid = zh_districts.fid\n",
    "LEFT JOIN sum_bike_table ON sum_bike_table.fid = zh_districts.fid;\n",
    "```"
   ]
  },
  {
   "cell_type": "markdown",
   "id": "6386a7ff-cc3c-4bcb-acc2-3bce892430ca",
   "metadata": {},
   "source": [
    "***\n",
    "# Create a view from the results.\n",
    "If you think of a table as something that stores data, think of a view as something that provides you a specific view on your data. A view can be thought of as a virtual table with a query at its core that provides the content. A view looks like a table and you interact with it in the same way using your everyday SQL clauses, but the content of the view is always generated ad hoc at the time of the interaction and is the result of whatever the underlying query returns.\n",
    "\n",
    "Views can be created by adding `CREATE VIEW <NEW_VIEW_NAME> AS` at the beginning of your query and executing it the usual way. Once created views can be found under _Views_ in the pgAdmin database menu (same place where the _Tables_ folder is located). The query at the heart of a view can be found by right-clicking a view under properties>code.\n",
    "\n",
    "\n",
    "```postgresql\n",
    "CREATE VIEW v_bike_suitability AS\n",
    "\n",
    "WITH sum_total_table AS (\n",
    "    SELECT zh_districts.fid, \n",
    "        SUM(ST_Length(ST_Intersection(zh_districts.geom,zh_roads.geom))) AS sum_total_table\n",
    "    FROM zh_districts, zh_roads\n",
    "    WHERE ST_Intersects(zh_districts.geom, zh_roads.geom)\n",
    "    GROUP BY zh_districts.fid\n",
    "),\n",
    "sum_bike_table AS (\n",
    "    SELECT zh_districts.fid, \n",
    "        SUM(ST_Length(ST_Intersection(zh_districts.geom,zh_roads.geom))) AS sum_bike\n",
    "    FROM zh_districts, zh_roads\n",
    "    WHERE ST_Intersects(zh_districts.geom, zh_roads.geom)\n",
    "        AND zh_roads.velo=1\n",
    "    GROUP BY zh_districts.fid\n",
    ")\n",
    "\n",
    "SELECT\n",
    "    zh_districts.fid AS district_id,\n",
    "    zh_districts.stzname AS zonenname, \n",
    "    sum_total_table.sum_total_table AS sum_total,\n",
    "    sum_bike_table.sum_bike AS sum_bike,\n",
    "    sum_bike_table.sum_bike/sum_total_table.sum_total_table AS ratio_suitable,\n",
    "    zh_districts.geom AS geom\n",
    "FROM zh_districts\n",
    "LEFT JOIN sum_total_table ON sum_total_table.fid = zh_districts.fid\n",
    "LEFT JOIN sum_bike_table ON sum_bike_table.fid = zh_districts.fid;\n",
    "```"
   ]
  },
  {
   "cell_type": "markdown",
   "id": "211e3acf-5d62-40dd-b932-a773f833983d",
   "metadata": {},
   "source": [
    "***\n",
    "# Create a materialized view from the results.\n",
    "Similar to views, a materialized view has a query at its heart which determines its content. In contrast to a view, a materialized view executes this query only when explicitly triggered and \"materializes\" the results into a table. This procedure is what is called \"refreshing a materialized view\", think of it as caching the results of the query. Materialized views are particularly useful if the underlying query is complex and takes a substantial amount of time to run. Interacting with a materialized view is as fast as working with a normal table, no matter how complex the underlying query is and a simple refresh from time to time allows to update its content based on the underlying datasets used by the query. Compared to a normal view the downsides are of course that an explicit periodic refresh has to be scheduled, which adds complexity to the setup, and that data might become outdated between refreshes. For the interested reader I recommend [this article](https://www.compose.com/articles/its-a-view-its-a-table-no-its-a-materialized-view/).\n",
    "\n",
    "Materialized views can be created by adding `CREATE MATERIALIZED VIEW <NEW_VIEW_NAME> AS` at the beginning of your query and executing it the usual way. Once created materialized views can be found under _Materialized Views_ in the pgAdmin database menu (same place where the _Tables_ folder is located). The query at the heart of a materialized view can be found by right-clicking a view under properties>definitions. Refreshing a materialized view is possible by executing `REFRESH MATERIALIZED VIEW <VIEW_NAME>;`\n",
    "\n",
    "```postgresql\n",
    "CREATE MATERIALIZED VIEW mv_bike_suitability AS\n",
    "\n",
    "WITH sum_total_table AS (\n",
    "    SELECT zh_districts.fid, \n",
    "        SUM(ST_Length(ST_Intersection(zh_districts.geom,zh_roads.geom))) AS sum_total_table\n",
    "    FROM zh_districts, zh_roads\n",
    "    WHERE ST_Intersects(zh_districts.geom, zh_roads.geom)\n",
    "    GROUP BY zh_districts.fid\n",
    "),\n",
    "sum_bike_table AS (\n",
    "    SELECT zh_districts.fid, \n",
    "        SUM(ST_Length(ST_Intersection(zh_districts.geom,zh_roads.geom))) AS sum_bike\n",
    "    FROM zh_districts, zh_roads\n",
    "    WHERE ST_Intersects(zh_districts.geom, zh_roads.geom)\n",
    "        AND zh_roads.velo=1\n",
    "    GROUP BY zh_districts.fid\n",
    ")\n",
    "\n",
    "SELECT\n",
    "    zh_districts.fid AS district_id,\n",
    "    zh_districts.stzname AS zonenname, \n",
    "    sum_total_table.sum_total_table AS sum_total,\n",
    "    sum_bike_table.sum_bike AS sum_bike,\n",
    "    sum_bike_table.sum_bike/sum_total_table.sum_total_table AS ratio_suitable,\n",
    "    zh_districts.geom AS geom\n",
    "FROM zh_districts\n",
    "LEFT JOIN sum_total_table ON sum_total_table.fid = zh_districts.fid\n",
    "LEFT JOIN sum_bike_table ON sum_bike_table.fid = zh_districts.fid;\n",
    "```"
   ]
  },
  {
   "cell_type": "markdown",
   "id": "6a5ec108-1233-4f23-a5b8-9187b30abe4e",
   "metadata": {},
   "source": [
    "***\n",
    "\n",
    "**Your turn:**\n",
    "- Execute all three queries to create a table, a view and a materialized view from the query result. \n",
    "- Recall the goals and requirements stated in the introduction session and come up with a suggestion which of the three approaches to use.\n",
    "- For your suggested approach, sketch out the steps to update your new dataset on a monthly basis."
   ]
  },
  {
   "cell_type": "code",
   "execution_count": null,
   "id": "f92740e2-4a99-4bc6-ab96-1c5f458d8029",
   "metadata": {},
   "outputs": [],
   "source": []
  }
 ],
 "metadata": {
  "kernelspec": {
   "display_name": "Python 3 (ipykernel)",
   "language": "python",
   "name": "python3"
  },
  "language_info": {
   "codemirror_mode": {
    "name": "ipython",
    "version": 3
   },
   "file_extension": ".py",
   "mimetype": "text/x-python",
   "name": "python",
   "nbconvert_exporter": "python",
   "pygments_lexer": "ipython3",
   "version": "3.8.10"
  }
 },
 "nbformat": 4,
 "nbformat_minor": 5
}
