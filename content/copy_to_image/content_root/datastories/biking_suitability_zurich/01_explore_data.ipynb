{
 "cells": [
  {
   "cell_type": "markdown",
   "id": "dc429898-a24b-4e77-bd9c-3c18a4e14c67",
   "metadata": {},
   "source": [
    "# Step 1 - Explore the road and district data your coworker sent you"
   ]
  },
  {
   "cell_type": "markdown",
   "id": "54a60518-cbd5-4f7c-b562-89bfc2c215f8",
   "metadata": {},
   "source": [
    "Your coworker downloaded two publicly available datasets from the city's website as shapefiles:\n",
    "- [Road network](https://data.stadt-zuerich.ch/dataset/geo_fuss__und_velowegnetz) with additional information for bikes (in Switzerland called _velo_) and passengers saved as _20220405_veloFusswegnetzZurich_ in the data folder.\n",
    "- [Statistical zones dataset](https://data.stadt-zuerich.ch/dataset/geo_statistische_zonen) which divides the city into 216 districts for statistical purposes, saved as _20220405_statistischeQuartiereZurich_ in the data folder."
   ]
  },
  {
   "cell_type": "markdown",
   "id": "9a56a7ae-e662-48d7-8f1a-62eeec0f1365",
   "metadata": {
    "tags": []
   },
   "source": [
    "In this section we will use the GDAL command line utility [ogrinfo](https://gdal.org/programs/ogrinfo.html) to explore the datasets your coworker sent you and make sure they match our requirements. The following commands are run on the command line. This jupyter lab setup provides you with a linux bash shell with the necessary commands configured.\n",
    "\n",
    "**As a preparation for all next steps, open a terminal and navigate to the folder of this story (same folder as this jupyter notebook) if necessary.** You can use the commands `pwd` (shows where you currently are), `ls` (lists folder and filenames) and `cd` (change directory). Good to know: When using `cd` you can start typing and hit Tabulator for autocompletion."
   ]
  },
  {
   "cell_type": "markdown",
   "id": "cb46870b-fdde-4109-8cac-d269ee7a3256",
   "metadata": {},
   "source": [
    "![open terminal](./story_images/open_terminal.gif)"
   ]
  },
  {
   "cell_type": "markdown",
   "id": "1fa3aa45-5e33-40ad-a2c4-a7eb1955e007",
   "metadata": {
    "tags": []
   },
   "source": [
    "***\n",
    "## Explore the road network dataset\n",
    "\n",
    "Let's now use `ogrinfo` to explore the road network shapefile using read only mode (`-ro`) and print only summary information (`-so`). Run the following command in the terminal:\n",
    "\n",
    "```shell\n",
    "ogrinfo -ro -so \"./data/20220405_veloFusswegnetzZurich/taz_mm.tbl_routennetz.shp\"\n",
    "```\n",
    "\n",
    "The output lists all layers in the data source. Not surprisingly there is only a single layer in the shapefile:\n",
    "```\n",
    "INFO: Open of `./data/20220405_veloFusswegnetzZurich/taz_mm.tbl_routennetz.shp'\n",
    "     using driver `ESRI Shapefile' successful.\n",
    "1: taz_mm.tbl_routennetz (Line String)\n",
    "```"
   ]
  },
  {
   "cell_type": "markdown",
   "id": "6f2819a2-eee3-4847-899f-c186f60e6c68",
   "metadata": {},
   "source": [
    "***\n",
    "\n",
    "When a layer is specified, ogrinfo provides useful information about this specific layer. You can now provide the layer name to ogrinfo to get information about this data layer: \n",
    "```shell\n",
    "ogrinfo -ro -so \"./data/20220405_veloFusswegnetzZurich/taz_mm.tbl_routennetz.shp\" \"taz_mm.tbl_routennetz\"\n",
    "```\n",
    "\n",
    "The terminal should show the following output:\n",
    "```\n",
    "INFO: Open of `./data/20220405_veloFusswegnetzZurich/taz_mm.tbl_routennetz.shp'\n",
    "      using driver `ESRI Shapefile' successful.\n",
    "\n",
    "Layer name: taz_mm.tbl_routennetz\n",
    "Metadata:\n",
    "  DBF_DATE_LAST_UPDATE=2022-04-05\n",
    "Geometry: Line String\n",
    "Feature Count: 40065\n",
    "Extent: (2676247.120400, 1241239.066500) - (2689662.340100, 1254306.994900)\n",
    "Layer SRS WKT:\n",
    "PROJCRS[\"CH1903+ / LV95\",\n",
    "    BASEGEOGCRS[\"CH1903+\",\n",
    "        DATUM[\"CH1903+\",\n",
    "            ELLIPSOID[\"Bessel 1841\",6377397.155,299.1528128,\n",
    "                LENGTHUNIT[\"metre\",1]]],\n",
    "        PRIMEM[\"Greenwich\",0,\n",
    "            ANGLEUNIT[\"degree\",0.0174532925199433]],\n",
    "        ID[\"EPSG\",4150]],\n",
    "    CONVERSION[\"Swiss Oblique Mercator 1995\",\n",
    "        METHOD[\"Hotine Oblique Mercator (variant B)\",\n",
    "            ID[\"EPSG\",9815]],\n",
    "        PARAMETER[\"Latitude of projection centre\",46.9524055555556,\n",
    "            ANGLEUNIT[\"degree\",0.0174532925199433],\n",
    "            ID[\"EPSG\",8811]],\n",
    "        PARAMETER[\"Longitude of projection centre\",7.43958333333333,\n",
    "            ANGLEUNIT[\"degree\",0.0174532925199433],\n",
    "            ID[\"EPSG\",8812]],\n",
    "        PARAMETER[\"Azimuth of initial line\",90,\n",
    "            ANGLEUNIT[\"degree\",0.0174532925199433],\n",
    "            ID[\"EPSG\",8813]],\n",
    "        PARAMETER[\"Angle from Rectified to Skew Grid\",90,\n",
    "            ANGLEUNIT[\"degree\",0.0174532925199433],\n",
    "            ID[\"EPSG\",8814]],\n",
    "        PARAMETER[\"Scale factor on initial line\",1,\n",
    "            SCALEUNIT[\"unity\",1],\n",
    "            ID[\"EPSG\",8815]],\n",
    "        PARAMETER[\"Easting at projection centre\",2600000,\n",
    "            LENGTHUNIT[\"metre\",1],\n",
    "            ID[\"EPSG\",8816]],\n",
    "        PARAMETER[\"Northing at projection centre\",1200000,\n",
    "            LENGTHUNIT[\"metre\",1],\n",
    "            ID[\"EPSG\",8817]]],\n",
    "    CS[Cartesian,2],\n",
    "        AXIS[\"(E)\",east,\n",
    "            ORDER[1],\n",
    "            LENGTHUNIT[\"metre\",1]],\n",
    "        AXIS[\"(N)\",north,\n",
    "            ORDER[2],\n",
    "            LENGTHUNIT[\"metre\",1]],\n",
    "    USAGE[\n",
    "        SCOPE[\"Cadastre, engineering survey, topographic mapping (large and medium scale).\"],\n",
    "        AREA[\"Liechtenstein; Switzerland.\"],\n",
    "        BBOX[45.82,5.96,47.81,10.49]],\n",
    "    ID[\"EPSG\",2056]]\n",
    "Data axis to CRS axis mapping: 1,2\n",
    "id1: Real (20.0)\n",
    "velo: Integer (6.0)\n",
    "velostreif: String (5.0)\n",
    "veloweg: Integer (6.0)\n",
    "einbahn: String (5.0)\n",
    "fuss: Integer (6.0)\n",
    "name: String (150.0)\n",
    "map_velo: Integer (6.0)\n",
    "map_fuss: Integer (6.0)\n",
    "se_anno_ca: String (254.0)\n",
    "objectid: Real (38.0)\n",
    "```"
   ]
  },
  {
   "cell_type": "markdown",
   "id": "10ba47fa-2d25-49fb-bfca-343b33b13460",
   "metadata": {},
   "source": [
    "**How cool is that?** With this simple command we get a summary about the number of features (around 40k), the coodinate reference system (CH1903+ / LV95) and the attribute data (columns of the attribute table).\n",
    "\n",
    "**Your turn:**\n",
    "- The dataset also has a meta data document (metadaten.pdf) which contains valuable additional information about how to interpret the attributes. Using this document, what attribute do you think is suitable for our bike indicator to distinguish what roads can be used by bikes (velos)?\n"
   ]
  },
  {
   "cell_type": "markdown",
   "id": "57ffbfaf-e3ee-402f-a92c-926fb1974fa1",
   "metadata": {
    "tags": []
   },
   "source": [
    "***\n",
    "# Explore the district data\n",
    "Let's now explore also the district data with the same two step approach. Use `ogrinfo` to find the name of the data layer and then use the name of the layer to get information about it.\n",
    "\n",
    "**Your turn:**\n",
    "- What is the geometry type of the features?\n",
    "- How many features are there?\n",
    "- What is the coordinate reference system?\n",
    "- What columns does the attribute table have?"
   ]
  },
  {
   "cell_type": "markdown",
   "id": "de9b5039-fee9-46c7-a121-400691a98496",
   "metadata": {},
   "source": [
    "***\n",
    "# Conclusion\n",
    "Upon exploration you saw that both datasets are in the new swiss coordinate reference system (CH1903+ / LV95) which is suitable for our usecase at the city level. You also found that the attribute `velo` of the road network data seems to be a good indicator whether a road is suitable (1) for a bike or not (0). The data looks all good and you feel ready to load it into PostGIS."
   ]
  },
  {
   "cell_type": "code",
   "execution_count": null,
   "id": "12473dc6-5ece-4258-ac29-2e8fad9af4a9",
   "metadata": {},
   "outputs": [],
   "source": []
  }
 ],
 "metadata": {
  "kernelspec": {
   "display_name": "Python 3 (ipykernel)",
   "language": "python",
   "name": "python3"
  },
  "language_info": {
   "codemirror_mode": {
    "name": "ipython",
    "version": 3
   },
   "file_extension": ".py",
   "mimetype": "text/x-python",
   "name": "python",
   "nbconvert_exporter": "python",
   "pygments_lexer": "ipython3",
   "version": "3.8.10"
  }
 },
 "nbformat": 4,
 "nbformat_minor": 5
}
