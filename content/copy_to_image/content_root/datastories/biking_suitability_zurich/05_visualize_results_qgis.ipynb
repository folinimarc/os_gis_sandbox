{
 "cells": [
  {
   "cell_type": "markdown",
   "id": "9a56a7ae-e662-48d7-8f1a-62eeec0f1365",
   "metadata": {},
   "source": [
    "# Step 5 - Visualize the results as a map in QGIS\n",
    "\n",
    "If you have QGIS installed and the sandbox running, you can create a database connection in QGIS as shown below. You can then work with the data and create maps, all while it is being streamed from the database. The database role _gis_ has full privileges, which means you can edit exiting tables or load new data into database via QGIS. Given an appropriate role privilege system, such a database can be very valuable as a central data management platform in contrast to sending around shapefiles among coworkers.\n",
    "\n",
    "Follow along to create a database connection in QGIS and build upon all your previous work to create a map of biking suitability in Zurich. Make sure to look up the appropriate credentials from the sandbox database component. Note that QGIS is not part of the sandbox and therefore you must use HostExternal and PortExternal.\n",
    "\n",
    "![create map in qgis](./story_images/qgis_create_map.gif)"
   ]
  },
  {
   "cell_type": "code",
   "execution_count": null,
   "id": "ae234bed-c7f0-42e6-a1b4-4f120ddba44b",
   "metadata": {},
   "outputs": [],
   "source": []
  }
 ],
 "metadata": {
  "kernelspec": {
   "display_name": "Python 3 (ipykernel)",
   "language": "python",
   "name": "python3"
  },
  "language_info": {
   "codemirror_mode": {
    "name": "ipython",
    "version": 3
   },
   "file_extension": ".py",
   "mimetype": "text/x-python",
   "name": "python",
   "nbconvert_exporter": "python",
   "pygments_lexer": "ipython3",
   "version": "3.8.10"
  }
 },
 "nbformat": 4,
 "nbformat_minor": 5
}
