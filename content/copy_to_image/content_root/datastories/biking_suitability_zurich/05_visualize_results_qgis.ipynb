{
 "cells": [
  {
   "cell_type": "markdown",
   "id": "9a56a7ae-e662-48d7-8f1a-62eeec0f1365",
   "metadata": {},
   "source": [
    "# Step 5 - Visualize the results as a map in QGIS\n",
    "\n",
    "If you have QGIS installed and the sandbox running, you can create a database connection in QGIS as shown below. You can then work with the data and create maps, all while it is being streamed from the database. The database role _gis_ has full privileges, which means you can edit exiting tables or load new data into database via QGIS. Given an appropriate role privilege system, such a database can be very valuable as a central data management platform in contrast to sending around shapefiles among coworkers.\n",
    "\n",
    "Follow along to create a database connection in QGIS and build upon all your previous work to create a map of biking suitability in Zurich. Make sure to look up the appropriate credentials from the sandbox database component. Note that QGIS is not part of the sandbox and therefore you must use HostExternal and PortExternal."
   ]
  },
  {
   "cell_type": "markdown",
   "id": "afe1a526-f29b-4f54-a8ad-98ba69ac9200",
   "metadata": {},
   "source": [
    "## Connect QGIS to Sandbox PostGIS\n",
    "    \n",
    "![connect qgis to postgis](./story_images/qgis_connect_postgis.gif)"
   ]
  },
  {
   "cell_type": "markdown",
   "id": "4ad91190-a19b-4727-8111-65e5955e43c5",
   "metadata": {},
   "source": [
    "## Create styled map in QGIS\n",
    "    \n",
    "![create styled map in QGIS](./story_images/qgis_map_styling.gif)"
   ]
  },
  {
   "cell_type": "code",
   "execution_count": null,
   "id": "a868a22a-b9e9-4bfe-ac2f-ae67047e0e12",
   "metadata": {},
   "outputs": [],
   "source": []
  }
 ],
 "metadata": {
  "kernelspec": {
   "display_name": "Python 3 (ipykernel)",
   "language": "python",
   "name": "python3"
  },
  "language_info": {
   "codemirror_mode": {
    "name": "ipython",
    "version": 3
   },
   "file_extension": ".py",
   "mimetype": "text/x-python",
   "name": "python",
   "nbconvert_exporter": "python",
   "pygments_lexer": "ipython3",
   "version": "3.8.10"
  }
 },
 "nbformat": 4,
 "nbformat_minor": 5
}
