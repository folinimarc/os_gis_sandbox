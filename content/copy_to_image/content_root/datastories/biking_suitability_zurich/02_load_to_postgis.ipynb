{
 "cells": [
  {
   "cell_type": "markdown",
   "id": "dc429898-a24b-4e77-bd9c-3c18a4e14c67",
   "metadata": {
    "tags": []
   },
   "source": [
    "# Step 2 - Load the shapefiles into PostGIS"
   ]
  },
  {
   "cell_type": "markdown",
   "id": "9a56a7ae-e662-48d7-8f1a-62eeec0f1365",
   "metadata": {
    "tags": []
   },
   "source": [
    "In this section we will use the GDAL command line utility [ogr2ogr](https://gdal.org/programs/ogr2ogr.html), a powerful tool that converts between almost dataformats. We will use it to load the shapefiles into PostGIS. The following commands might look intimidating at first due to the many parameters, but we will explain them step by step later."
   ]
  },
  {
   "cell_type": "markdown",
   "id": "1bc2938c-1a59-4523-a223-a42853d4cfcb",
   "metadata": {
    "tags": []
   },
   "source": [
    "**Your turn:**\n",
    "- Similar to the previous step, open a terminal and navigate to the folder of this datastory (the same folder where this notebook is located).\n",
    "- Replace DATABASE_NAME, HOST, PORT, USERNAME and PASSWORD in the commands below with the connection information of the PostGIS sandbox component.\n",
    "- Run both commands below to load the data into the database."
   ]
  },
  {
   "cell_type": "markdown",
   "id": "575b93a0-6957-4165-9d9f-cb08989577be",
   "metadata": {},
   "source": [
    "Load the road network data by running this command in the terminal:\n",
    "```shell\n",
    "ogr2ogr \\\n",
    "-f \"PostgreSQL\" \\\n",
    "-progress \\\n",
    "-nln \"zh_roads\" \\\n",
    "-nlt PROMOTE_TO_MULTI \\\n",
    "-lco FID=fid \\\n",
    "-lco GEOMETRY_NAME=geom \\\n",
    "--config OGR_TRUNCATE YES \\\n",
    "PG:\"dbname='DATABASE_NAME' host='HOST' port='PORT' user='USERNAME' password='PASSWORD'\" \\\n",
    "\"./data/20220405_veloFusswegnetzZurich/taz_mm.tbl_routennetz.shp\"\n",
    "```"
   ]
  },
  {
   "cell_type": "markdown",
   "id": "29995478-ecb6-4b40-a256-de9aea20993a",
   "metadata": {},
   "source": [
    "***\n",
    "Let's have a look at the parameters:\n",
    "- `-f \"PostgreSQL\"` - Specify the target format to be a PostgreSQL (PostGIS) table.\n",
    "- `-progress` - Display a progress bar when loading the data.\n",
    "- `-nln \"zh_roads\"` - The name of the new database table should be zh_roads.\n",
    "- `-nlt PROMOTE_TO_MULTI` - If single and multi geometries are mixed, promote all to multi to have uniform geometries.\n",
    "- `-lco FID=fid` - Create a feature id column named fid.\n",
    "- `-lco GEOMETRY_NAME=geom` - Set name the geometry column to geom.\n",
    "- `--config OGR_TRUNCATE YES` - Drop all rows before loading data if a table with that name already exists. This allows overwrites existing data without destroying views on the data. \n",
    "- `PG:\"dbname='DATABASE_NAME' host='HOST' port='PORT' user='USERNAME' password='PASSWORD'\"` - A connection string holds all necessary data to establish a connection to the database. Replace DATABASE_NAME, HOST, PORT, USERNAME and PASSWORD with the connection information of the PostGIS sandbox component. \n",
    "- `\"./data/20220405_veloFusswegnetzZurich/taz_mm.tbl_routennetz.shp\"` - Path to the file to load.\n"
   ]
  },
  {
   "cell_type": "markdown",
   "id": "05fdddc1-b5a8-4e98-b714-e1393e4cd4c7",
   "metadata": {
    "jp-MarkdownHeadingCollapsed": true,
    "tags": []
   },
   "source": [
    "***\n",
    "Now load the districts data:\n",
    "\n",
    "```shell\n",
    "ogr2ogr \\\n",
    "-f \"PostgreSQL\" \\\n",
    "-progress \\\n",
    "-nln \"zh_districts\" \\\n",
    "-nlt PROMOTE_TO_MULTI \\\n",
    "-lco FID=fid \\\n",
    "-lco GEOMETRY_NAME=geom \\\n",
    "--config OGR_TRUNCATE YES \\\n",
    "PG:\"dbname='DATABASE_NAME' host='HOST' port='PORT' user='USERNAME' password='PASSWORD'\" \\\n",
    "\"./data/20220405_statistischeQuartiereZurich/stzh.adm_statzonen_v.shp\"\n",
    "```"
   ]
  },
  {
   "cell_type": "markdown",
   "id": "627dcea9-0891-4bb9-bd64-5c641887d7ea",
   "metadata": {
    "jp-MarkdownHeadingCollapsed": true,
    "tags": []
   },
   "source": [
    "**That's it, congratulations!** You now have the data of the two shapefiles available as their own tables in PostGIS. Your coworkers can now access the data from a central place by connecting to the database, for example via QGIS."
   ]
  },
  {
   "cell_type": "markdown",
   "id": "f86b7f02-c21a-4439-b97c-ddda811a52ba",
   "metadata": {
    "tags": []
   },
   "source": [
    "***\n",
    "# (OPTIONAL) Use pgAdmin to check the new tables in the database\n",
    "\n",
    "**Your turn:**\n",
    "- Use pgAdmin to connect to the database and check if you see the new tables.\n",
    "\n",
    "![check tables](./story_images/check_tables.gif)"
   ]
  },
  {
   "cell_type": "markdown",
   "id": "7a8fed58-b524-44f0-a923-a479e739e3b1",
   "metadata": {},
   "source": [
    "***\n",
    "# (OPTIONAL) Explore data & load to PostGIS using Python GeoPandas\n",
    "It is also possible to use the Python ecosystem to explore spatial data and load it to PostGIS. This section is optional, as the result is exactly the same as when using `ogrinfo` and `ogr2ogr`. It is simply a different set of tools to achieve the same goal. Depending on your preferences and already existing technology stack, you might prefer one way over the other. Here Python is used to explore and load the districts dataset into PostGIS.\n",
    "\n",
    "We will make use of [GeoPandas](https://geopandas.org/en/stable/), which is built on the famous Python package Pandas. GeoPandas interfaces with many other specialized packages of the Python geo-ecosystem to provide an amazing user experience.\n",
    "\n",
    "The following sections will only consider the districts data. The procedure would be identical for the road network data."
   ]
  },
  {
   "cell_type": "markdown",
   "id": "4e9600ed-5368-4186-a5ae-e48a72bdfa3d",
   "metadata": {},
   "source": [
    "### Explore district data\n",
    "Run the following cells to read and explore the data."
   ]
  },
  {
   "cell_type": "code",
   "execution_count": null,
   "id": "26a0e2b3-783e-4a7b-97f8-e1a24fe5183e",
   "metadata": {},
   "outputs": [],
   "source": [
    "import geopandas\n",
    "\n",
    "# Reading data is straight-forward with GeoPandas. Nice to know: Under the hood GeoPandas uses the \n",
    "# specialized Fiona package, which is all about reading and writing data.\n",
    "districts_data = geopandas.read_file(\"./data/20220405_statistischeQuartiereZurich/stzh.adm_statzonen_v.shp\")"
   ]
  },
  {
   "cell_type": "code",
   "execution_count": null,
   "id": "6aef5ed9-9c69-4f03-b0e0-1778e6bf134a",
   "metadata": {},
   "outputs": [],
   "source": [
    "# Using .head(N) we can display the first N rows of data.\n",
    "districts_data.head(3)"
   ]
  },
  {
   "cell_type": "code",
   "execution_count": null,
   "id": "e302737b-59d1-4c37-84b8-92d39f5e6065",
   "metadata": {},
   "outputs": [],
   "source": [
    "# GeoPandas makes it easy to obtain all kind of information about the data we loaded.\n",
    "print(f'Nr of features: {len(districts_data)}')\n",
    "print(f'Coordinate reference system: {districts_data.crs}')\n",
    "print(f'Nr of attribute columns: {len(districts_data.columns)}')\n",
    "print(40*'-')\n",
    "print(f'Column names:')\n",
    "for column in districts_data.columns:\n",
    "    print(column)"
   ]
  },
  {
   "cell_type": "code",
   "execution_count": null,
   "id": "830c21a8-e172-403c-8660-1900f567caeb",
   "metadata": {},
   "outputs": [],
   "source": [
    "# Using .plot() generates static visualizations. \n",
    "# It uses the famous matplotlib package under the hood. \n",
    "districts_data.plot()"
   ]
  },
  {
   "cell_type": "code",
   "execution_count": null,
   "id": "24159f16-be72-4863-a46d-1d4b8a2e4d28",
   "metadata": {},
   "outputs": [],
   "source": [
    "# There is even the possibility to visualize data in an interactive way using .explore().\n",
    "# This is possible thanks to GeoPandas making use of the folium Python package.\n",
    "districts_data.explore(column='stzname', legend=False)"
   ]
  },
  {
   "cell_type": "markdown",
   "id": "ef154952-2c5e-4d3e-9ca0-f0ad4b8763b8",
   "metadata": {},
   "source": [
    "### Load the data into PostGIS\n",
    "GeoPandas uses the packages [GeoAlchemy2](https://geoalchemy-2.readthedocs.io/en/latest/) and [SQLAlchemy](https://www.sqlalchemy.org/) under the hood which are specialized in interacting with databases. A first step is the creation of a _connection string_, a simple text which contains all information needed to connect to the database following a particular convention. This connection string is then used to establish a connection to the database (called engine below) which is used by GeoPandas to load the data into PostGIS.\n",
    "\n",
    "**Your turn:**\n",
    "- Replace DATABASE_NAME, HOST, PORT, USERNAME and PASSWORD in the cell below with the connection information of the PostGIS sandbox component. Make sure to keep the quotes (') so that Python reads the connection information as strings (text).\n",
    "- Run both cells below to load the data into the database.\n",
    "- Once again you can use pgAdmin to check the newly created table in the database."
   ]
  },
  {
   "cell_type": "code",
   "execution_count": null,
   "id": "443801fc-5a69-4008-9a50-7b9e71269c28",
   "metadata": {},
   "outputs": [],
   "source": [
    "user = 'USER'\n",
    "password = 'PASSWORD'\n",
    "host = 'HOST'\n",
    "port = 'PORT'\n",
    "database_name = 'DATABASE_NAME'\n",
    "\n",
    "connection_string = f'postgresql://{user}:{password}@{host}:{port}/{database_name}'\n",
    "print(f'{connection_string=}')"
   ]
  },
  {
   "cell_type": "code",
   "execution_count": null,
   "id": "2ee355f9-adb6-4085-b771-fc4e9dbf4a06",
   "metadata": {},
   "outputs": [],
   "source": [
    "from sqlalchemy import create_engine\n",
    "\n",
    "table_name = 'zh_districts_from_geopandas' \n",
    "print(f'Start loading to PostGIS table with name {table_name}...')\n",
    "engine = create_engine(connection_string)\n",
    "districts_data.to_postgis(table_name, engine, if_exists='replace', index=False)\n",
    "print('Successfully loaded')"
   ]
  },
  {
   "cell_type": "code",
   "execution_count": null,
   "id": "5b834a65-7f33-42c2-9fd4-901aac2b595a",
   "metadata": {},
   "outputs": [],
   "source": []
  }
 ],
 "metadata": {
  "kernelspec": {
   "display_name": "Python 3 (ipykernel)",
   "language": "python",
   "name": "python3"
  },
  "language_info": {
   "codemirror_mode": {
    "name": "ipython",
    "version": 3
   },
   "file_extension": ".py",
   "mimetype": "text/x-python",
   "name": "python",
   "nbconvert_exporter": "python",
   "pygments_lexer": "ipython3",
   "version": "3.8.10"
  }
 },
 "nbformat": 4,
 "nbformat_minor": 5
}
