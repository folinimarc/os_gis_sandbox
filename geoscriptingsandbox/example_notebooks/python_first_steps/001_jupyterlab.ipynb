{
 "cells": [
  {
   "cell_type": "markdown",
   "metadata": {},
   "source": [
    "# Welcome to JupyterLab: Get to know the environment"
   ]
  },
  {
   "cell_type": "markdown",
   "metadata": {},
   "source": [
    "This section is not yet about python, but the interface that allows us to work with python in an interactive and fun way. What you see here is __JupyterLab__, a browser based  developer environments to __interactively run code and write rich documentation__. The heart of JupyterLab are so called __notebooks__ (you are looking at one right now), which consist of __cells__ that can contain either executable code or markdown (formatted content like text, images, links, etc). \n",
    "\n",
    "__Jupyter notebooks are excellent for prototyping, data exploration and visualization__ due to their linear nature (cell-by-cell top down) and the possibility to combine code snippets with nicely formatted text cells (such as what you are looking at right here). When it comes to building automation scripts or more complex applications there are more suitable developer environments (VisualCode, PyCharm) that support the required code architecture patterns (splitting code in reusable functions and modules) better.\n",
    "\n",
    "The following paragraphs explain the most important features, but there is much more to check out in the [documentation](https://jupyterlab.readthedocs.io/en/stable/getting_started/overview.html) if you are interested."
   ]
  },
  {
   "cell_type": "markdown",
   "metadata": {},
   "source": [
    "#### How to run code interactively\n",
    "1. Click into the grey area with the code. Press __Ctrl + Enter__ to run the code in the cell or __Shift + Enter__ to run the code and subsequetly select the next cell.\n",
    "2. Note how the number in the brackets of __In[ ]__ changes in the top left of the cell. The number increases with each executed cell and allows you to easily track in which order the cells were executed."
   ]
  },
  {
   "cell_type": "code",
   "execution_count": null,
   "metadata": {
    "tags": []
   },
   "outputs": [],
   "source": [
    "print(\"Click in this gray area and press CTRL + ENTER to run me interactively!\")\n",
    "print(2 + 2)"
   ]
  },
  {
   "cell_type": "markdown",
   "metadata": {},
   "source": [
    "Jupyter notebooks also allow to display more complex results, such as plots or tables. __You do not need to understand what is going on in the next two code cells, we will come to that soon enough!__ Just run them and dream of the possibilities by displaying the output of your future computations in such a nice way!"
   ]
  },
  {
   "cell_type": "code",
   "execution_count": null,
   "metadata": {},
   "outputs": [],
   "source": [
    "# Borrowed from https://matplotlib.org/stable/tutorials/introductory/pyplot.html\n",
    "import matplotlib.pyplot as plt\n",
    "from random import randint, gauss\n",
    "nr_points = 50\n",
    "data = {'x': list(range(nr_points)),\n",
    "        'color': [randint(0,50) for _ in range(nr_points)],\n",
    "        's': [gauss(0,1) for _ in range(nr_points)]}\n",
    "data['y'] = [(x + 10*gauss(0,1)) for x in data['x']]\n",
    "data['size'] = [100 * abs(s) for s in data['s']]\n",
    "\n",
    "plt.scatter('x', 'y', c='color', s='size', data=data)\n",
    "plt.xlabel('x')\n",
    "plt.ylabel('y')\n",
    "plt.title('Random points with a trend - Similar to many real life phenomena')\n",
    "plt.show()"
   ]
  },
  {
   "cell_type": "code",
   "execution_count": null,
   "metadata": {},
   "outputs": [],
   "source": [
    "# Print the first 5 values of data used for the plot above in tabular form\n",
    "import pandas as pd\n",
    "pd.DataFrame(data, columns=['x','y','color','size']).head(5)"
   ]
  },
  {
   "cell_type": "markdown",
   "metadata": {
    "jp-MarkdownHeadingCollapsed": true,
    "tags": []
   },
   "source": [
    "#### Some useful commands\n",
    "- To reset all cell outputs, click \"Edit\" -> \"Clear All Outputs\"\n",
    "- To reset the kernel (the python interpreter), click \"Kernel\" -> \"Restart & Clear Output\"\n",
    "- To rename your notebook, right-click the file in the browser pane to the left -> \"Rename\"\n",
    "- To export your notebook to different file formats, click \"File\" -> \"Save and Export Notebook As\"\n",
    "- You can change the order of cells by drag-n-drop."
   ]
  },
  {
   "cell_type": "markdown",
   "metadata": {
    "jp-MarkdownHeadingCollapsed": true,
    "tags": []
   },
   "source": [
    "#### How to insert a new cell\n",
    "Maybe you want to experiment further or take some notes. In that case you can easily extend the notebook with new cells.\n",
    "1. Click on an existing cell. If that cell contains grey shaded code area, do to __not__ click into this area.\n",
    "2. You can now press the __a or b__ keys to insert a new cell above or below respectively. If you want to remove the current cell, press the __d__ key twice."
   ]
  },
  {
   "cell_type": "markdown",
   "metadata": {
    "tags": []
   },
   "source": [
    "#### How to edit cells"
   ]
  },
  {
   "cell_type": "markdown",
   "metadata": {},
   "source": [
    "For code cells this is very easy, just click in the grey shaded area - voila.\n",
    "\n",
    "For markdown cells, double-click it to display the raw markdown text. Here you can write text and style it using markdown - I recommend having a look at this [cheatsheet](https://sqlbak.com/blog/jupyter-notebook-markdown-cheatsheet). When you are done, make sure to run the cell via Ctrl+Enter to render the markdown styling."
   ]
  },
  {
   "cell_type": "markdown",
   "metadata": {
    "tags": []
   },
   "source": [
    "#### How to toggle between a markdown and a code cell\n",
    "A notebook can contain two types of cells: __Markdown cells__ hold text which can be formatted using the markdown language. __Code cells__ hold code that can be interactively executed. You recognize code cells easily by the grey shaded area and the __In[ ]:__ to their left.\n",
    "1. Click on an existing cell. If that cell contains grey shaded code area, be sure to __not__ click into this area.\n",
    "2. Press the __m or y__ key to change the cell to a markdown (m) or code cell (y) respectively."
   ]
  },
  {
   "cell_type": "markdown",
   "metadata": {},
   "source": [
    "# A final word of caution\n",
    "__When you define a variable in a cell it is available in all other cells as well__. In combination with the ability to run individual cells in arbitrary order, this might lead strange behavior when a variable is being modified and used in multiple places - depending on the execution order of cells the same variable can have different values at different times.\n",
    "\n",
    "Try the following:\n",
    "1. Run the following two cells in order, whereby the second cell prints \"2\". \n",
    "2. Now run the third cell.\n",
    "3. Run the second cell again. It now prints \"4\", because a was changed from 1 to 2 in the third cell."
   ]
  },
  {
   "cell_type": "code",
   "execution_count": null,
   "metadata": {},
   "outputs": [],
   "source": [
    "a = 1"
   ]
  },
  {
   "cell_type": "code",
   "execution_count": null,
   "metadata": {},
   "outputs": [],
   "source": [
    "print(a*2)"
   ]
  },
  {
   "cell_type": "code",
   "execution_count": null,
   "metadata": {},
   "outputs": [],
   "source": [
    "a = 2"
   ]
  },
  {
   "cell_type": "markdown",
   "metadata": {},
   "source": [
    "This might seem trivial for now, but if the cell content becomes more complex it can lead to nasty bugs.\n",
    "__Follow these best practises to avoid giving future-you a heach ache:__\n",
    "- Avoid using previously used variable names in cells that do not belong together thematically. OR explicitly define the variables in the beginning - thus explicitly assigning intended default values to the variables.\n",
    "- Given a blank slate, your notebook should be setup to run through from top to bottom in linear fashion wothout error and giving the intended results. To achieve this, regularly restart the kernel (the python interpreter) by clicking \"Kernel\" -> \"Restart & Clear Output\". Then run through the notebook with Shift+Enter or \"Run\" -> \"Run All Cells\"."
   ]
  },
  {
   "cell_type": "code",
   "execution_count": null,
   "metadata": {},
   "outputs": [],
   "source": []
  }
 ],
 "metadata": {
  "kernelspec": {
   "display_name": "Python 3 (ipykernel)",
   "language": "python",
   "name": "python3"
  },
  "language_info": {
   "codemirror_mode": {
    "name": "ipython",
    "version": 3
   },
   "file_extension": ".py",
   "mimetype": "text/x-python",
   "name": "python",
   "nbconvert_exporter": "python",
   "pygments_lexer": "ipython3",
   "version": "3.9.9"
  }
 },
 "nbformat": 4,
 "nbformat_minor": 4
}
