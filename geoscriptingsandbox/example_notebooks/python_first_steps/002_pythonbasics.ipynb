{
 "cells": [
  {
   "cell_type": "markdown",
   "metadata": {},
   "source": [
    "# Python - Yet another brief introduction\n",
    "\n",
    "#### Content:\n",
    "1. [Welcome to Python](#1.-Welcome-to-Python)\n",
    "2. [Variables and syntax](#2.-Variables-and-syntax)\n",
    "3. [Operators](#3.-Operators)\n",
    "4. [Data structures](#4.-Data-structures)\n",
    "<br> &nbsp;&nbsp;&nbsp;&nbsp;&nbsp;&nbsp;[Primitive types (int, float, string, bool)](#4.1-Primitive-types-(int,-float,-string,-bool))\n",
    "<br> &nbsp;&nbsp;&nbsp;&nbsp;&nbsp;&nbsp;[List](#4.2-List)\n",
    "<br> &nbsp;&nbsp;&nbsp;&nbsp;&nbsp;&nbsp;[Tuple](#4.3-Tuple)\n",
    "<br> &nbsp;&nbsp;&nbsp;&nbsp;&nbsp;&nbsp;[Dictionary](#4.4-Dictionary)\n",
    "<br> &nbsp;&nbsp;&nbsp;&nbsp;&nbsp;&nbsp;[Set](#4.5-Set)\n",
    "5. [Importing](#5.-Importing)\n",
    "6. [The search for truth and branching (if-else)](#6.-The-search-for-truth-and-branching)\n",
    "<br> &nbsp;&nbsp;&nbsp;&nbsp;&nbsp;&nbsp;[Exkurs: A word about indentation](#Exkurs:-A-word-about-indentation)\n",
    "7. [Looping](#7.-Looping)\n",
    "8. [(Optional) Comprehensions](#8.-(Optional)-Comprehensions)\n",
    "<br> &nbsp;&nbsp;&nbsp;&nbsp;&nbsp;&nbsp;[List comprehension](#8.1-List-comprehension)\n",
    "<br> &nbsp;&nbsp;&nbsp;&nbsp;&nbsp;&nbsp;[Dictionary comprehension](#8.2-Dictionary-comprehension)"
   ]
  },
  {
   "cell_type": "markdown",
   "metadata": {},
   "source": [
    "## 1. Welcome to Python\n",
    "TBD"
   ]
  },
  {
   "cell_type": "markdown",
   "metadata": {
    "tags": []
   },
   "source": [
    "## 2. Variables and syntax"
   ]
  },
  {
   "cell_type": "markdown",
   "metadata": {},
   "source": [
    "Similar to Matlab and R, Python is a dynamically typed language. That means, variables do not need to be declared with a specified datatype (integer, string, float) before being used. Also the datatypes held by a variable can change on the fly. A variable previously assigned to a number can subsequently be assigned to a string without any problems. Quite intuitive and handy!"
   ]
  },
  {
   "cell_type": "code",
   "execution_count": null,
   "metadata": {
    "tags": []
   },
   "outputs": [],
   "source": [
    "a = 5\n",
    "b = 7\n",
    "c = a + b\n",
    "print(c)"
   ]
  },
  {
   "cell_type": "code",
   "execution_count": null,
   "metadata": {
    "tags": []
   },
   "outputs": [],
   "source": [
    "a = 5\n",
    "print(a)\n",
    "# Now assign a string to a.\n",
    "a = \"John\"\n",
    "print(a) # What might this print? :)"
   ]
  },
  {
   "cell_type": "markdown",
   "metadata": {},
   "source": [
    "#### Note:\n",
    "- Compared to Matlab, there are no semicolons (;) at the end of a line.\n",
    "- For strings, both single (') or double (\") quotation marks are fine.\n",
    "- A hashtag (#) indicates a line of comments.\n",
    "- The function print() is used to show the value of a variable or expression. In a jupyter notebook, the value of the last line will be printed by default if not assigned to a variable.\n",
    "- Like many other functions, print optionally has a lot more cool functionality to offer. Why not taking some minutes to [get to know it a little better](https://www.w3schools.com/python/ref_func_print.asp)?"
   ]
  },
  {
   "cell_type": "markdown",
   "metadata": {},
   "source": [
    "## 3. Operators"
   ]
  },
  {
   "cell_type": "markdown",
   "metadata": {},
   "source": [
    "Python supports all common operators one may expect. The only syntactic speciality is the power operator, which is a double star (**) instead of the more commonly used caret (^)."
   ]
  },
  {
   "cell_type": "code",
   "execution_count": null,
   "metadata": {
    "tags": []
   },
   "outputs": [],
   "source": [
    "print(1 + 4) # Addition\n",
    "print(6 - 2) # Subtraction\n",
    "print(4 * 3) # Multiplication\n",
    "print(8 / 3) # Division\n",
    "print(8 // 3) # Floor division\n",
    "print(2 ** 3) # Exponentiation\n",
    "print(10 % 3) # Modulus"
   ]
  },
  {
   "cell_type": "markdown",
   "metadata": {},
   "source": [
    "All of these operators have also an assignment operator equivalent, which performs the operation and assigns the result back to the variable in one step. They consist of the operator followed by the equal sign, e.g. +=, -=, *=, etc."
   ]
  },
  {
   "cell_type": "code",
   "execution_count": null,
   "metadata": {
    "scrolled": true,
    "tags": []
   },
   "outputs": [],
   "source": [
    "# Normal operator +\n",
    "a = 3\n",
    "a = a + 2\n",
    "print(a)\n",
    "\n",
    "# Assignment operator +=\n",
    "a = 3\n",
    "a += 2\n",
    "print(a)"
   ]
  },
  {
   "cell_type": "markdown",
   "metadata": {},
   "source": [
    "Some operators work differently on numbers and strings. Most notably, the + operator is used for concatenation and the * operator is used for repetition when used with strings."
   ]
  },
  {
   "cell_type": "code",
   "execution_count": null,
   "metadata": {
    "scrolled": true,
    "tags": []
   },
   "outputs": [],
   "source": [
    "a = \"Hello\"\n",
    "b = \"World\"\n",
    "print(a + b)\n",
    "print(3 * a)"
   ]
  },
  {
   "cell_type": "markdown",
   "metadata": {},
   "source": [
    "Python will __not__ let you concatenate numbers and strings together! Use the str() function to convert a number to a string prior to concatenation."
   ]
  },
  {
   "cell_type": "code",
   "execution_count": null,
   "metadata": {
    "tags": []
   },
   "outputs": [],
   "source": [
    "a = \"My age is \"\n",
    "b = 54\n",
    "print(a + b) # Error!"
   ]
  },
  {
   "cell_type": "code",
   "execution_count": null,
   "metadata": {
    "tags": []
   },
   "outputs": [],
   "source": [
    "print(a + str(b)) # Works!"
   ]
  },
  {
   "cell_type": "markdown",
   "metadata": {},
   "source": [
    "### A note on error messages:\n",
    "When an error occurs, Python usually provides you with a detailed description of where something went wrong. __Error messages are your friend!__ Take some time to study the report and try to figure out in what line the error occured and what kind of error it is. Learning to efficiently deal with error reports will save you a lot of frustration when writing your own programs."
   ]
  },
  {
   "cell_type": "markdown",
   "metadata": {},
   "source": [
    "## 4. Data structures"
   ]
  },
  {
   "cell_type": "markdown",
   "metadata": {},
   "source": [
    "Data structures are used to store data. Depending on the type of data, one data structure might be more suited than another. In the following, we will have a brief look at some commonly used native python data structures."
   ]
  },
  {
   "cell_type": "markdown",
   "metadata": {},
   "source": [
    "### 4.1 Primitive types (int, float, string, bool)\n",
    "The four primitive types in python are quite intuitive and we will not spend a lot of time on them. Take some minutes to read the very concise and insightful corresponding section [here](https://www.datacamp.com/community/tutorials/data-structures-python). All four primitive types are __immutable__ - don't worry, we will talk about that later, just keep it in mind for now."
   ]
  },
  {
   "cell_type": "markdown",
   "metadata": {},
   "source": [
    "__Integers__ are whole numbers ranging from minus infinity to infinity, plain and simple. Compared to lower level languages integers in python can literally be as large as you want them to be, python will take care to allocate the necessary memory."
   ]
  },
  {
   "cell_type": "code",
   "execution_count": null,
   "metadata": {},
   "outputs": [],
   "source": [
    "i = 384723947983279847329847298374983729874398274987298427398274\n",
    "print(type(i)) # Use type() to see the type of an object.\n",
    "print(i)"
   ]
  },
  {
   "cell_type": "markdown",
   "metadata": {},
   "source": [
    "__Float__ stands for floating point number, basically numbers with a decimal point:"
   ]
  },
  {
   "cell_type": "code",
   "execution_count": null,
   "metadata": {},
   "outputs": [],
   "source": [
    "f = 3.67\n",
    "print(type(f))\n",
    "print(f) \n",
    "i = int(f) # Convert to integer\n",
    "print(type(i))\n",
    "print(i) # Woah! Conversion to integer via int() just cuts off whatever is behind a decimal point!"
   ]
  },
  {
   "cell_type": "markdown",
   "metadata": {},
   "source": [
    "They have some interesting properties, for example that the computer can only represent floats with a __limited precision__. This behavior is not specific to python, but to the very fundamental way of how floats are stored n a computer. You can learn more about this [here](https://www.geeksforgeeks.org/floating-point-error-in-python/). __Long story short__: Be aware of the fact that floats are usually precise enough for daily tasks (up to 7th or so decimal place), but not suitable for high precision requirements (e.g. finance micro transations)."
   ]
  },
  {
   "cell_type": "code",
   "execution_count": null,
   "metadata": {},
   "outputs": [],
   "source": [
    "f = 1.2 - 1.0 # Easy, that is 0.2!\n",
    "print(f) # Wait what????"
   ]
  },
  {
   "cell_type": "markdown",
   "metadata": {},
   "source": [
    "Python takes care of a lot of conversion work behind the scenes for you. For example if you divide two integers, python converts the result to a float if this makes sense:"
   ]
  },
  {
   "cell_type": "code",
   "execution_count": null,
   "metadata": {},
   "outputs": [],
   "source": [
    "x = 3\n",
    "y = 2\n",
    "print(type(x), type(y))\n",
    "z1 = x / y\n",
    "print(type(z1))\n",
    "print(z1)"
   ]
  },
  {
   "cell_type": "code",
   "execution_count": null,
   "metadata": {},
   "outputs": [],
   "source": [
    "# If you want to stay in integer land, use // for divisions\n",
    "x = 3\n",
    "y = 2\n",
    "z2 = x // y\n",
    "print(type(z2))\n",
    "print(z2)"
   ]
  },
  {
   "cell_type": "markdown",
   "metadata": {},
   "source": [
    "__Booleans__ can have one of two values: True or False. We will talk a lot more about booleans later when we talk about how different expressions and comparisons evaluate to a boolean of True or False."
   ]
  },
  {
   "cell_type": "markdown",
   "metadata": {},
   "source": [
    "__Strings__ are a sequence of zero (empty string) or more characters wrapped in single or double quotation marks. You might want to save the name of your favorite band as a string or a whole recipe of your favorite meal. The python string object has many useful methods worth [checking out](https://www.w3schools.com/python/python_ref_string.asp):"
   ]
  },
  {
   "cell_type": "code",
   "execution_count": null,
   "metadata": {},
   "outputs": [],
   "source": [
    "bandname = \"Helene Fischer\" # :-P\n",
    "print(type(bandname))\n",
    "print(3 * bandname) # Multiplication operator also works on strings\n",
    "# Addition concatenates strings. But python3 only concatenates string types (try to remove the str() below).\n",
    "print(str(3) + bandname + ' is in town today!')"
   ]
  },
  {
   "cell_type": "code",
   "execution_count": null,
   "metadata": {},
   "outputs": [],
   "source": [
    "# Some handy methods you get for free with the string object\n",
    "print(bandname.upper())\n",
    "print(bandname.count('i'))\n",
    "print(bandname.replace('Cat', 'Dog'))"
   ]
  },
  {
   "cell_type": "code",
   "execution_count": null,
   "metadata": {},
   "outputs": [],
   "source": [
    "print(bandname[0]) # You can access an individual characters by index\n",
    "print(bandname[0:6]) # Or extract slices of characters\n",
    "print(bandname[-1]) # Last character\n",
    "\n",
    "# Note that all operations above did not change the original string!\n",
    "print(bandname)"
   ]
  },
  {
   "cell_type": "markdown",
   "metadata": {},
   "source": [
    "Python provides powerful ways to format strings, for example to substitute variables. Let's look at a relatively recent addition, the beloved __f-strings__. I will only give a simple example here, but f-strings are extremely powerful and reading either tutorial [here](https://realpython.com/python-f-strings/) and [here](https://saralgyaan.com/posts/f-string-in-python-usage-guide/) is time well spent for everybody who finds themselves repeatedly using print."
   ]
  },
  {
   "cell_type": "code",
   "execution_count": null,
   "metadata": {},
   "outputs": [],
   "source": [
    "age = 44\n",
    "name = 'Robert'\n",
    "formatted_string = f'My name is {name}, I am {age} years old!'\n",
    "print(formatted_string)"
   ]
  },
  {
   "cell_type": "markdown",
   "metadata": {},
   "source": [
    "How awesome is that? By simply prefixing a classic string with an __f__, we can use curly braces to directly substitute variables at any place in the string - so concise and elegant!\n",
    "\n",
    "A recent powerful addition to f-strings allows you to concisely print the name of a variable together with its value by simply adding a \"=\" after the variable:"
   ]
  },
  {
   "cell_type": "code",
   "execution_count": null,
   "metadata": {},
   "outputs": [],
   "source": [
    "ingredients = ['carrot', 'apple', 'love']\n",
    "cooking_time = 30\n",
    "print(f'{ingredients=}')\n",
    "print(f'{cooking_time=}')"
   ]
  },
  {
   "cell_type": "markdown",
   "metadata": {
    "tags": []
   },
   "source": [
    "### 4.2 List"
   ]
  },
  {
   "cell_type": "markdown",
   "metadata": {},
   "source": [
    "A list is a collection of items, that is __ordered__ and __mutable__. Lists are useful if your data is somehow ordered (e.g. a timeseries), because it makes selecting items in relation to each other very efficient via indexing."
   ]
  },
  {
   "cell_type": "markdown",
   "metadata": {},
   "source": [
    "Square brackets [ ] are used for list creation as well as indexing, i.e. accessing elements in the list."
   ]
  },
  {
   "cell_type": "code",
   "execution_count": null,
   "metadata": {
    "tags": []
   },
   "outputs": [],
   "source": [
    "my_list = [1, 2, 3, 9, 12]\n",
    "print(my_list)"
   ]
  },
  {
   "cell_type": "markdown",
   "metadata": {},
   "source": [
    "List items can be of different types. It is even possible to \"nest\" one list in another one."
   ]
  },
  {
   "cell_type": "code",
   "execution_count": null,
   "metadata": {
    "scrolled": true,
    "tags": []
   },
   "outputs": [],
   "source": [
    "my_list = [2, 'hello', [5,4,3], 5, 77, 3, 12, 13]\n",
    "print(my_list)"
   ]
  },
  {
   "cell_type": "markdown",
   "metadata": {},
   "source": [
    "As __python is 0-based__, the first element in a list is at position list[0]. Access the first element of the inner list by using a second square bracket. The more to the right a square bracket, the deeper nested the accessed element is."
   ]
  },
  {
   "cell_type": "code",
   "execution_count": null,
   "metadata": {
    "scrolled": true,
    "tags": []
   },
   "outputs": [],
   "source": [
    "print(my_list[0])\n",
    "print(my_list[2])\n",
    "print(my_list[2][0])\n",
    "print(my_list[2][1])"
   ]
  },
  {
   "cell_type": "markdown",
   "metadata": {},
   "source": [
    "Python supports also negative indexing. The index -1 always returns the last element."
   ]
  },
  {
   "cell_type": "code",
   "execution_count": null,
   "metadata": {
    "tags": []
   },
   "outputs": [],
   "source": [
    "my_list[-1]"
   ]
  },
  {
   "cell_type": "markdown",
   "metadata": {},
   "source": [
    "Because lists are ordered, it is also possible to extract multiple adjacent items at once by using a colon (:). This is called slicing. \n",
    "- The start index is inclusive (included in the slice).\n",
    "- The end index is exclusive (not included in the slice).\n",
    "- Omitting the end index slices until the end of the list. \n",
    "- Omitting the start index slices from the start of the list.\n",
    "- Don't forget  that python is 0-based."
   ]
  },
  {
   "cell_type": "code",
   "execution_count": null,
   "metadata": {},
   "outputs": [],
   "source": [
    "print(my_list)\n",
    "print('-'*20)\n",
    "print(my_list[4:6])\n",
    "print(my_list[4:])\n",
    "print(my_list[:6])"
   ]
  },
  {
   "cell_type": "markdown",
   "metadata": {},
   "source": [
    "Items can be easily replaced by assigning a new item to the desired position."
   ]
  },
  {
   "cell_type": "code",
   "execution_count": null,
   "metadata": {
    "tags": []
   },
   "outputs": [],
   "source": [
    "my_list = [2, 'hello', [5,4,3], 5, 77, 3, 12, 13]\n",
    "print(my_list)\n",
    "my_list[0] = 'New York'\n",
    "print(my_list)"
   ]
  },
  {
   "cell_type": "markdown",
   "metadata": {},
   "source": [
    "Test if a list contains an element by using the __in__ keyword."
   ]
  },
  {
   "cell_type": "code",
   "execution_count": null,
   "metadata": {
    "tags": []
   },
   "outputs": [],
   "source": [
    "print(\"hello\" in my_list)\n",
    "print(-999 in my_list)"
   ]
  },
  {
   "cell_type": "markdown",
   "metadata": {},
   "source": [
    "#### Useful list operations\n",
    "- Lists can dynamically grow and shrink using append() and pop().\n",
    "- Lists can be easily reversed and sorted using reverse() and sort().\n",
    "- The number of elements can be found with the len() function.\n",
    "- Lists support the + and * operators for concatenation and repetition.\n",
    "\n",
    "Note below how append(), pop(), reverse() and sort() change the list __in-place__. That means the list itself is changed and these functions do not return a modified result list. Because such in-place operations are possible, lists are called mutable.\n",
    "\n",
    "A summary of all list operations can be found <a href=\"https://www.programiz.com/python-programming/methods/list\" target=\"_blank\">here</a>."
   ]
  },
  {
   "cell_type": "code",
   "execution_count": null,
   "metadata": {},
   "outputs": [],
   "source": [
    "my_list = [4, 2, 1, 5]\n",
    "print(my_list)\n",
    "my_list.append(7) # append(x) appends x at the end of the list. \n",
    "print(my_list)\n",
    "popped_element = my_list.pop() # pop() returns the last element and removes it from the list.\n",
    "print(my_list)\n",
    "print(popped_element)"
   ]
  },
  {
   "cell_type": "code",
   "execution_count": null,
   "metadata": {},
   "outputs": [],
   "source": [
    "my_list = [4, 2, 1, 5]\n",
    "print(my_list)\n",
    "my_list.reverse() # reverse(x) reverses the elements in x.\n",
    "print(my_list)\n",
    "my_list.sort() # sort(x) sorts the elements in x.\n",
    "print(my_list)"
   ]
  },
  {
   "cell_type": "code",
   "execution_count": null,
   "metadata": {},
   "outputs": [],
   "source": [
    "nr_items = len(my_list) # len(x) returns the number of elements in x.\n",
    "print(nr_items)"
   ]
  },
  {
   "cell_type": "code",
   "execution_count": null,
   "metadata": {},
   "outputs": [],
   "source": [
    "# The + operator allows to concatenate lists.\n",
    "a = [2, 3, 4]\n",
    "b = [5, 6, 7]\n",
    "c = a + b\n",
    "print(c)"
   ]
  },
  {
   "cell_type": "code",
   "execution_count": null,
   "metadata": {
    "scrolled": true
   },
   "outputs": [],
   "source": [
    "# The * operator allows to repeate lists.\n",
    "a * 3"
   ]
  },
  {
   "cell_type": "markdown",
   "metadata": {},
   "source": [
    "### Mutability caveats\n",
    "When teaching python, the concept of mutability is a hassle, because it is hard to grasp in the beginning at might seem abstract but at the same time it is important enough to at least touch upon it to avoid frustrating code behavior. For now, let's just relax and take it cell by cell to explore the concept:\n",
    "\n",
    "The mutable nature of lists can lead to some confusing behaviour for beginners. For example consider the following example that assigns a number to a, then assigns a to b and finally changes the value associated with b. In the end, a and b are different, which is intuitive:"
   ]
  },
  {
   "cell_type": "code",
   "execution_count": null,
   "metadata": {},
   "outputs": [],
   "source": [
    "a = 7\n",
    "b = a\n",
    "print(b)\n",
    "b = 4\n",
    "print(a)\n",
    "print(b)"
   ]
  },
  {
   "cell_type": "markdown",
   "metadata": {},
   "source": [
    "However, watch what happens when doing the same to lists:"
   ]
  },
  {
   "cell_type": "code",
   "execution_count": null,
   "metadata": {},
   "outputs": [],
   "source": [
    "a = [1,2,3]\n",
    "b = a\n",
    "print(b)\n",
    "b[1] = 7\n",
    "print(a)\n",
    "print(b)"
   ]
  },
  {
   "cell_type": "markdown",
   "metadata": {},
   "source": [
    "By just changing b we also modified a! How is this possible? With a small modification (note the a.copy()) it works as expected:"
   ]
  },
  {
   "cell_type": "code",
   "execution_count": null,
   "metadata": {},
   "outputs": [],
   "source": [
    "a = [1,2,3]\n",
    "b = a.copy()\n",
    "print(b)\n",
    "b[1] = 7\n",
    "print(a)\n",
    "print(b)"
   ]
  },
  {
   "cell_type": "markdown",
   "metadata": {},
   "source": [
    "The explanation is rooted in the very fundamental way of what variables in python really are and is out of scope for this tutorial. __Just remember that with mutable datatypes an assignment (=) is not equivalent with creating a independent copy. To achieve this use .copy()!__ In case of nested structures you might want to have a look at the deepcopy module.\n",
    "\n",
    "If you would like to dig deeper, I'd recommend this <a href=\"https://standupdev.com/wiki/doku.php?id=python_tuples_are_immutable_but_may_change\" target=\"_blank\">fantastic article</a>."
   ]
  },
  {
   "cell_type": "markdown",
   "metadata": {},
   "source": [
    "### 4.3 Tuple"
   ]
  },
  {
   "cell_type": "markdown",
   "metadata": {},
   "source": [
    "A tuple is a collection of items, that is __ordered__ and __immutable__. Compared to lists, they cannot be changed once they have been created. Although tuples have many uses, we will only use them as multi-dimensional keys for dictionaries (next section), because dictionary keys must be immutable."
   ]
  },
  {
   "cell_type": "markdown",
   "metadata": {},
   "source": [
    "- Round brackets ( ) are used to create a tuple. \n",
    "- Square brackets [ ] are used to access elements.\n",
    "- Indexing and slicing is the same as with lists.\n",
    "- Just like lists, tuples can hold all kinds of different data.\n",
    "\n",
    "A summary of all tuple operations can be found <a href=\"https://www.programiz.com/python-programming/methods/tuple\" target=\"_blank\">here</a>."
   ]
  },
  {
   "cell_type": "code",
   "execution_count": null,
   "metadata": {
    "scrolled": true
   },
   "outputs": [],
   "source": [
    "my_tuple = (1, 3, 5, 'hello')\n",
    "print(my_tuple[1])"
   ]
  },
  {
   "cell_type": "markdown",
   "metadata": {},
   "source": [
    "Compared to lists, it is not possible to change an element of a tuple."
   ]
  },
  {
   "cell_type": "code",
   "execution_count": null,
   "metadata": {
    "scrolled": true
   },
   "outputs": [],
   "source": [
    "my_tuple[1] = 9 # Error!"
   ]
  },
  {
   "cell_type": "markdown",
   "metadata": {},
   "source": [
    "### 4.4 Dictionary"
   ]
  },
  {
   "cell_type": "markdown",
   "metadata": {},
   "source": [
    "A dictionary is a collection of items, that is __unordered__ and __mutable__. Each item consists of a __key:value__ pair, whereby the key is used to look up the associated value. Dictionaries are useful if your data is unordered and has some meaningful labels that can act as keys. An example would be customer data (value) with an associated unique ID (key). \n",
    "\n",
    "One advantage of dictionaries over lists is their lookup speed. Even with millions of items, searching for the value associated with a specific key is blazingly fast. The same operation would take a lot longer on a list of similar size. A second advantage is the nature of the key:value pair, which would be very cumbersome to implement using only lists."
   ]
  },
  {
   "cell_type": "markdown",
   "metadata": {},
   "source": [
    "- Curly brackets { } are used for dictionary creation. \n",
    "- The key is separated from the value by a colon (:). \n",
    "- Key:value pairs are separated by commas (,). \n",
    "- A key can be numeric or a string. \n",
    "- The value can be of any type, e.g. list, another dictionary, numeric or string."
   ]
  },
  {
   "cell_type": "code",
   "execution_count": null,
   "metadata": {},
   "outputs": [],
   "source": [
    "my_dict = {\"key1\":\"value1\", \"key2\":234, 99:[1,2,3]}\n",
    "print(my_dict)"
   ]
  },
  {
   "cell_type": "markdown",
   "metadata": {},
   "source": [
    "Test if a key exists with the __in__ keyword."
   ]
  },
  {
   "cell_type": "code",
   "execution_count": null,
   "metadata": {},
   "outputs": [],
   "source": [
    "print(\"key1\" in my_dict)\n",
    "print(\"key4\" in my_dict)"
   ]
  },
  {
   "cell_type": "markdown",
   "metadata": {},
   "source": [
    "Values can be accessed via the corresponding key either using square brackets [] or the get() function."
   ]
  },
  {
   "cell_type": "code",
   "execution_count": null,
   "metadata": {},
   "outputs": [],
   "source": [
    "print(my_dict[\"key1\"])\n",
    "print(my_dict[99])\n",
    "print(my_dict[\"key2\"])"
   ]
  },
  {
   "cell_type": "markdown",
   "metadata": {},
   "source": [
    "If the key does not exists, a \"KeyError\" error is raised when using the square brackets."
   ]
  },
  {
   "cell_type": "code",
   "execution_count": null,
   "metadata": {
    "scrolled": true
   },
   "outputs": [],
   "source": [
    "my_dict[\"key4\"]"
   ]
  },
  {
   "cell_type": "markdown",
   "metadata": {},
   "source": [
    "Alternatively, get(\"key\", \"default\") can be used to get the value associated with \"key\". __Compared to the [ ] notation, a missing key does not raise an error, but returns a default provided as second argument.__"
   ]
  },
  {
   "cell_type": "code",
   "execution_count": null,
   "metadata": {
    "scrolled": true
   },
   "outputs": [],
   "source": [
    "value = my_dict.get(\"key1\", None) # key1 exists -> associated value (\"value1\") is returned\n",
    "print(value)\n",
    "value = my_dict.get(\"key4\", None) # key4 does not exist -> None is returned\n",
    "print(value)"
   ]
  },
  {
   "cell_type": "markdown",
   "metadata": {},
   "source": [
    "#### Note: \n",
    "The keyword __None__ in python is a valid constant, however it has no value and will always evaluate to False (see later). It basically means \"Nothing\" and is roughly comparable to R's NULL."
   ]
  },
  {
   "cell_type": "markdown",
   "metadata": {},
   "source": [
    "A new key:value pair is added by assigning the value to a key that does not exist yet. __If a key already exists, the existing associated value is overwritten.__"
   ]
  },
  {
   "cell_type": "code",
   "execution_count": null,
   "metadata": {},
   "outputs": [],
   "source": [
    "my_dict = {\"key1\":\"value1\", \"key2\":234, 99:[1,2,3]}\n",
    "print(my_dict)\n",
    "my_dict[\"new_key\"] = 66\n",
    "print(my_dict)\n",
    "my_dict[\"key1\"] = -763\n",
    "print(my_dict)"
   ]
  },
  {
   "cell_type": "markdown",
   "metadata": {},
   "source": [
    "Tuples are valid dictionary keys. They can be used as __multidimensional keys__. Note how the round brackets of tuples can be omitted when retrieving the values."
   ]
  },
  {
   "cell_type": "code",
   "execution_count": null,
   "metadata": {
    "scrolled": true
   },
   "outputs": [],
   "source": [
    "my_dict = {('Marc', 1): 44, ('Marc', 2): 21, (5,4): -7}\n",
    "print(my_dict)\n",
    "print(my_dict['Marc', 2])\n",
    "# OR use tuple syntax explicitly by using round brackets\n",
    "print(my_dict[('Marc', 2)])"
   ]
  },
  {
   "cell_type": "markdown",
   "metadata": {
    "tags": []
   },
   "source": [
    "#### Useful dictionary operations\n",
    "\n",
    "- The number of key:value pairs can be found with the len() function.\n",
    "- Keys and values can easily be extracted using the keys() and values() function respectively. Key:value pairs are extracted using the items() function.\n",
    "- Merge two dictionaries using the update() function.\n",
    "- Easily return and remove the value associated with a key using the pop() function.\n",
    "\n",
    "Just like with lists, note below how update() and pop() change the dictionary __in-place__. That means the dictionary itself is changed and these functions do not return a result that needs to be assigned to a variable again.\n",
    "\n",
    "A summary of all dictionary operations can be found <a href=\"https://www.programiz.com/python-programming/methods/dictionary\" target=\"_blank\">here</a>."
   ]
  },
  {
   "cell_type": "code",
   "execution_count": null,
   "metadata": {},
   "outputs": [],
   "source": [
    "my_dict = {'Marc': 34, 'Anna': 66, 'Pete': 98, 'Elena':32}\n",
    "print(my_dict)\n",
    "nr_items = len(my_dict)\n",
    "print(nr_items)"
   ]
  },
  {
   "cell_type": "code",
   "execution_count": null,
   "metadata": {},
   "outputs": [],
   "source": [
    "all_keys = my_dict.keys() # Return all keys from my_dict. Using values() would do the same for the values.\n",
    "list(all_keys) # Convert them to a list."
   ]
  },
  {
   "cell_type": "code",
   "execution_count": null,
   "metadata": {},
   "outputs": [],
   "source": [
    "# Update dict_1 with the key:values of dict_2. For identical keys, the value of dict_1 is overwritten.\n",
    "dict_1 = {'a':4, 'b':5}\n",
    "dict_2 = {'c':6, 'b':9}\n",
    "dict_1.update(dict_2)\n",
    "print(dict_1)"
   ]
  },
  {
   "cell_type": "code",
   "execution_count": null,
   "metadata": {
    "scrolled": true
   },
   "outputs": [],
   "source": [
    "dict_1 = {'a':4, 'b':5}\n",
    "# pop(key, default) removes the value of the corresponding key from the dictionary and returns it.\n",
    "# If the key does not exist, the default value is returned instead. Note the similarity to get(key, default).\n",
    "popped_element_1 = dict_1.pop('b', None) # key exists\n",
    "print(dict_1)\n",
    "print(popped_element_1)\n",
    "popped_element_2 = dict_1.pop('z', None) # key does not exist\n",
    "print(popped_element_2)"
   ]
  },
  {
   "cell_type": "markdown",
   "metadata": {
    "tags": []
   },
   "source": [
    "### 4.5 Set"
   ]
  },
  {
   "cell_type": "markdown",
   "metadata": {},
   "source": [
    "Sets are __unordered__, __mutable__ collections of __unique__ items.\n",
    "\n",
    "#### Creation and indexing\n",
    "- Curly brackets { } or the set() function are used for set creation.\n",
    "- As they are unordered, sets do not support indexing.\n",
    "- Lists can easily be converted to sets and vice versa."
   ]
  },
  {
   "cell_type": "markdown",
   "metadata": {},
   "source": [
    "Sets have a lot of interesting use cases, but we will only demonstrate the common case of extracting the unique elements from a list using a set:"
   ]
  },
  {
   "cell_type": "code",
   "execution_count": null,
   "metadata": {},
   "outputs": [],
   "source": [
    "# List with duplicates\n",
    "list_with_duplicates = [1, 2, 3, 1, 2, 1, 4]\n",
    "print(list_with_duplicates)\n",
    "# Convert to a set, thus removing duplicates\n",
    "my_set = set(list_with_duplicates)\n",
    "print(my_set)\n",
    "# Convert set back to a list (note in the output how the curly brackets { } change to square brackets [ ])\n",
    "list_without_duplicates = list(my_set)\n",
    "print(list_without_duplicates)"
   ]
  },
  {
   "cell_type": "markdown",
   "metadata": {},
   "source": [
    "A summary of all set operations can be found <a href=\"https://www.programiz.com/python-programming/methods/set\" target=\"_blank\">here</a>."
   ]
  },
  {
   "cell_type": "markdown",
   "metadata": {},
   "source": [
    "## 5. Importing"
   ]
  },
  {
   "cell_type": "markdown",
   "metadata": {},
   "source": [
    "After downloading and installing a package via a package manager (pip or conda), we __import__ that code to make use of it in our own application. There are several ways how we can do this, but the common denominator to all is the use of the keyword __import__. Importing all needed modules at the very top of your own module is considered good practise.\n",
    "\n",
    "We will use the \"random\" module of the standard library, which contains a bunch of functions allowing us to do literally random stuff. The __shuffle()__ function takes an array and randomly changes its items in-place. As this module is in the standard library, we do not need to first install it as it comes bundled with standard python installation."
   ]
  },
  {
   "cell_type": "markdown",
   "metadata": {},
   "source": [
    "#### Module or package?\n",
    "Every file with python code is a module with the same name as the file (without the \\*.py extension) and can be easily imported into other modules. A collection of modules grouped in a directory with a special \\_\\_init\\_\\_.py file is called a package. However, a lot of people use these names interchangeably. There is much more to that topic <a href=\"https://realpython.com/python-modules-packages/\" target=\"_blank\">here</a>."
   ]
  },
  {
   "cell_type": "markdown",
   "metadata": {},
   "source": [
    "### 5.1 import random\n",
    "This is a very common way to import a module. Note that we use the name of the module as prefix to call functions (in that case shuffle). So each function x from random we can call as random.x()."
   ]
  },
  {
   "cell_type": "code",
   "execution_count": null,
   "metadata": {},
   "outputs": [],
   "source": [
    "import random\n",
    "\n",
    "my_list = [1, 2, 3, 4]\n",
    "print(my_list)\n",
    "random.shuffle(my_list)\n",
    "print(my_list)"
   ]
  },
  {
   "cell_type": "markdown",
   "metadata": {},
   "source": [
    "### 5.2 import random as rnd\n",
    "This is basically the same as \"import random\", but we assign a custom name to the imported module. We then use this (often shorter) name as prefix when using a module function. This is often used when we make extensive use of many functions of a package, e.g. when working with numpy (import numpy as np), pandas (import pandas as pd) or pyplot (import matplotlib.pyplot as plt)."
   ]
  },
  {
   "cell_type": "code",
   "execution_count": null,
   "metadata": {},
   "outputs": [],
   "source": [
    "import random as rnd\n",
    "\n",
    "my_list = [1, 2, 3, 4]\n",
    "print(my_list)\n",
    "rnd.shuffle(my_list)\n",
    "print(my_list)"
   ]
  },
  {
   "cell_type": "code",
   "execution_count": null,
   "metadata": {
    "scrolled": true
   },
   "outputs": [],
   "source": [
    "import random as rnd\n",
    "import matplotlib.pyplot as plt\n",
    "\n",
    "x = [1, 2, 3, 4, 5, 6, 7, 8, 9]\n",
    "y = [1, 1, 2, 3, 5, 8, 13, 21, 34]\n",
    "rnd.shuffle(y)\n",
    "plt.plot(x, y)\n",
    "plt.show()"
   ]
  },
  {
   "cell_type": "markdown",
   "metadata": {},
   "source": [
    "### 5.3 from random import shuffle\n",
    "It is possible to import a specific function from a module. That way no prefix is needed, as the function is completely copied to our module. We can then use the function as if it was defined in our module."
   ]
  },
  {
   "cell_type": "code",
   "execution_count": null,
   "metadata": {},
   "outputs": [],
   "source": [
    "from random import shuffle\n",
    "\n",
    "my_list = [1, 2, 3, 4]\n",
    "print(my_list)\n",
    "shuffle(my_list)\n",
    "print(my_list)"
   ]
  },
  {
   "cell_type": "markdown",
   "metadata": {},
   "source": [
    "### 5.4 from random import *\n",
    "This is similar to \"from random import shuffle\", but the star (\\*) means that we not only import the function shuffle, but __every__ function of that module into our module. We can then use every function of this module without prefix, as if we defined them in our modules. This import statement is generally considered bad practise, because it pollutes the namespace of our module with a potentially huge amount of functions and variables which can lead to a lot of confusion.\n",
    "\n",
    "However, for very specialized use cases that make heavy use of a single module, this import statement might be suitable. We use it in the case of the pyomo optimization package."
   ]
  },
  {
   "cell_type": "code",
   "execution_count": null,
   "metadata": {
    "scrolled": true
   },
   "outputs": [],
   "source": [
    "from random import *\n",
    "\n",
    "my_list = [1, 2, 3, 4]\n",
    "print(my_list)\n",
    "shuffle(my_list)\n",
    "print(my_list)"
   ]
  },
  {
   "cell_type": "markdown",
   "metadata": {},
   "source": [
    "## 6. The search for truth and branching"
   ]
  },
  {
   "cell_type": "markdown",
   "metadata": {},
   "source": [
    "Branching is the process of making decisions in a program using if-else statements. To that end, an expression must evaluate to either __True__ or __False__."
   ]
  },
  {
   "cell_type": "markdown",
   "metadata": {},
   "source": [
    "### 6.1 Is it True or False...?\n",
    "Comparisons luckily work as in any other language:"
   ]
  },
  {
   "cell_type": "code",
   "execution_count": null,
   "metadata": {
    "scrolled": true
   },
   "outputs": [],
   "source": [
    "print(3 > 3)\n",
    "print(3 >= 3)\n",
    "print(4 == 5)\n",
    "print(4 != 5)"
   ]
  },
  {
   "cell_type": "markdown",
   "metadata": {},
   "source": [
    "In Python, __everything__ can be evaluated as either True or False. This has some interesting implications, as it allows us to test for empty strings, empty lists, empty dictionaries, empty objects or the constant None, which all evaluate to false when put to a boolean test. The function __bool()__ can be used to force evaluation of an expression. Because an empty list is not false in the strict sense, and a non-empty list is not true in the strict sense, we call them falsey and truthy respectively."
   ]
  },
  {
   "cell_type": "code",
   "execution_count": null,
   "metadata": {},
   "outputs": [],
   "source": [
    "# List\n",
    "print(bool([])) # falsey (evaluates to a boolean of False) \n",
    "print(bool([2, \"hello\"])) # truthy (evaluates to a boolean of True)"
   ]
  },
  {
   "cell_type": "code",
   "execution_count": null,
   "metadata": {},
   "outputs": [],
   "source": [
    "# Dictionary\n",
    "print(bool({}))\n",
    "print(bool({'key1':\"hello\"}))"
   ]
  },
  {
   "cell_type": "code",
   "execution_count": null,
   "metadata": {},
   "outputs": [],
   "source": [
    "# String\n",
    "print(bool(\"\"))\n",
    "print(bool(\"hello\"))"
   ]
  },
  {
   "cell_type": "code",
   "execution_count": null,
   "metadata": {},
   "outputs": [],
   "source": [
    "# Numeric\n",
    "print(bool(0))\n",
    "print(bool(0.0))\n",
    "print(bool(1.3))"
   ]
  },
  {
   "cell_type": "code",
   "execution_count": null,
   "metadata": {},
   "outputs": [],
   "source": [
    "# None\n",
    "print(bool(None))"
   ]
  },
  {
   "cell_type": "markdown",
   "metadata": {},
   "source": [
    "__Boolean logic__ uses the keywords __and__, __or__ and __not__ to evaluate multiple comparisons:"
   ]
  },
  {
   "cell_type": "code",
   "execution_count": null,
   "metadata": {},
   "outputs": [],
   "source": [
    "# AND evaluates to True only if both operands are True\n",
    "print(True and True)\n",
    "print(False and True)\n",
    "print(False and False)\n",
    "print(5 > 3 and 7 < 12)"
   ]
  },
  {
   "cell_type": "code",
   "execution_count": null,
   "metadata": {},
   "outputs": [],
   "source": [
    "# OR evaluates to True if one or both operands are True\n",
    "print(True or True)\n",
    "print(False or True)\n",
    "print(False or False)\n",
    "print(5 > 3 or 7 < 12)"
   ]
  },
  {
   "cell_type": "code",
   "execution_count": null,
   "metadata": {},
   "outputs": [],
   "source": [
    "# NOT negates the evaluation\n",
    "print(not True)\n",
    "print(not(True and False))\n",
    "print(not None)"
   ]
  },
  {
   "cell_type": "markdown",
   "metadata": {},
   "source": [
    "### 6.2 If - elif - else\n",
    "The __if__ statement is followed by a boolean expression that will eventually evaluate to True or False and is terminated by a colon (:). Accidentally omitting the colon is one of the most common errors for beginners."
   ]
  },
  {
   "cell_type": "code",
   "execution_count": null,
   "metadata": {},
   "outputs": [],
   "source": [
    "# If the condition is True, the if block gets executed.\n",
    "# If the condition is False, the if block is skipped.\n",
    "x = 6\n",
    "if x < 9:\n",
    "    print(\"x is smaller than 9\")\n",
    "if x < 5:\n",
    "    print(\"x is smaller than 5\")"
   ]
  },
  {
   "cell_type": "markdown",
   "metadata": {},
   "source": [
    "<hr>"
   ]
  },
  {
   "cell_type": "markdown",
   "metadata": {},
   "source": [
    "## Exkurs: A word about indentation"
   ]
  },
  {
   "cell_type": "markdown",
   "metadata": {},
   "source": [
    "In the cell above you might have asked yourself how python knows what lines should only be executed if the if statement is true and what lines should be executed everytime as part of the main script. There are no curly brackets (hello java, R and the C family) and no keywords like \"end\" (hello Matlab and Julia).\n",
    "\n",
    "The answer: __indentation__\n",
    "\n",
    "Python programs are structured by their indentation, meaning how many whitespaces there are before the line starts. All consecutive lines with same indentations are called a suite (or block) and belong together. This design decision forces the programmer to have a consisten structure and is responsible for the clean and easy-to-read look of the language. \n",
    "\n",
    "__By the way:__ In this notebook you may also use tabs to indent your code. Jupyter will automatically convert each tab to 4 whitespaces."
   ]
  },
  {
   "cell_type": "markdown",
   "metadata": {},
   "source": [
    "<hr>"
   ]
  },
  {
   "cell_type": "code",
   "execution_count": null,
   "metadata": {},
   "outputs": [],
   "source": [
    "x = 4\n",
    "if x < 9:\n",
    "    print(\"x is smaller than 9\")\n",
    "    print(\"I am indented and therefore part of the if block!\")\n",
    "print(\"I am not indented and therefore I get executed every time!\")"
   ]
  },
  {
   "cell_type": "code",
   "execution_count": null,
   "metadata": {},
   "outputs": [],
   "source": [
    "x = 10\n",
    "if x < 9:\n",
    "    print(\"x is smaller than 9\")\n",
    "    print(\"I am indented and therefore part of the if block!\")\n",
    "print(\"I am not indented and therefore I get executed every time!\")"
   ]
  },
  {
   "cell_type": "markdown",
   "metadata": {},
   "source": [
    "An if block can be followed by an __else__ block, which is executed whenever the statement evaluates to False:"
   ]
  },
  {
   "cell_type": "code",
   "execution_count": null,
   "metadata": {},
   "outputs": [],
   "source": [
    "x = 10\n",
    "if x < 9:\n",
    "    print(\"x is smaller than 9\")\n",
    "else:\n",
    "    print(\"x is larger or equal than 9\")"
   ]
  },
  {
   "cell_type": "markdown",
   "metadata": {},
   "source": [
    "Comparisons can also be chained. An if block can be followed by an __elif__ block (else if). The elif condition is only evaluated, if the __first if condition evaluates to False__. If the elif condition evaluates to True, the elif block is executed. If the elif condition evaluates to False, the else block is excuted."
   ]
  },
  {
   "cell_type": "code",
   "execution_count": null,
   "metadata": {},
   "outputs": [],
   "source": [
    "x = 9\n",
    "if x < 9:\n",
    "    print(\"x is smaller than 9\")\n",
    "elif x == 9:\n",
    "    print(\"x is exactly 9\")\n",
    "else:\n",
    "    print(\"x is larger than 9\")"
   ]
  },
  {
   "cell_type": "markdown",
   "metadata": {
    "tags": []
   },
   "source": [
    "## 7. Looping"
   ]
  },
  {
   "cell_type": "markdown",
   "metadata": {},
   "source": [
    "### 7.1 Looping over a list\n",
    "__Version 1 - Direct assignment to loop variable:__ Each list element is assigned directly to the loop variable item in each iteration. A very handy way to process each item in a collection like a list, tuple or set:"
   ]
  },
  {
   "cell_type": "code",
   "execution_count": null,
   "metadata": {
    "tags": []
   },
   "outputs": [],
   "source": [
    "my_list = [3, 2, 5, 4]\n",
    "for item in my_list:\n",
    "    print(item)"
   ]
  },
  {
   "cell_type": "markdown",
   "metadata": {},
   "source": [
    "If the list to iterate over consists of __pairs of data__, python allows for simulaneous assignment via multiple loop variables:"
   ]
  },
  {
   "cell_type": "code",
   "execution_count": null,
   "metadata": {
    "scrolled": true
   },
   "outputs": [],
   "source": [
    "my_list = [[3,4], [7,8], [5,4]]\n",
    "for first, second in my_list:\n",
    "    print(str(first) + ' | ' + str(second))"
   ]
  },
  {
   "cell_type": "markdown",
   "metadata": {},
   "source": [
    "The same of course works for tuples:"
   ]
  },
  {
   "cell_type": "code",
   "execution_count": null,
   "metadata": {},
   "outputs": [],
   "source": [
    "my_list = [(3,4), (7,8), (5,4)]\n",
    "for first, second in my_list:\n",
    "    print(str(first) + ' | ' + str(second))"
   ]
  },
  {
   "cell_type": "markdown",
   "metadata": {},
   "source": [
    "Python makes it very easy to iterate over multiple lists at once, basically __zipping__ together items at corresponding indices. This works for every ordered datatype (e.g. list, tuple). This might be useful in cases where there is a relationship between corresponding items in separate lists, for example a value of some kind and a corresponding correction factor:"
   ]
  },
  {
   "cell_type": "code",
   "execution_count": null,
   "metadata": {},
   "outputs": [],
   "source": [
    "values = [2,6,4,7,10]\n",
    "correction_factors = [0.5,1,0.75,1,0.2]\n",
    "corrected_values = []\n",
    "# We correct the \n",
    "for v, c in zip(values, correction_factors):\n",
    "    corrected_values.append(v * c)\n",
    "print(f'Corrected values are: {corrected_values}')"
   ]
  },
  {
   "cell_type": "markdown",
   "metadata": {},
   "source": [
    "__Version 2 - Generation of consecutive integers to be used as list indices:__ The functions range() and len() are used to generate a list of consecutive integers in the form of (0, 1, 2 ..., len(list)-1) which are used as loop variable in each iteration to access the current element of the list:"
   ]
  },
  {
   "cell_type": "code",
   "execution_count": null,
   "metadata": {
    "scrolled": true,
    "tags": []
   },
   "outputs": [],
   "source": [
    "list(range(3,10))"
   ]
  },
  {
   "cell_type": "markdown",
   "metadata": {},
   "source": [
    "If only one number is supported, the sequence will start from 0 up to that number (exclusive)."
   ]
  },
  {
   "cell_type": "code",
   "execution_count": null,
   "metadata": {
    "tags": []
   },
   "outputs": [],
   "source": [
    "list(range(10))"
   ]
  },
  {
   "cell_type": "code",
   "execution_count": null,
   "metadata": {
    "tags": []
   },
   "outputs": [],
   "source": [
    "my_list = [3, 2, 5, 4]\n",
    "for k in range(len(my_list)):\n",
    "    print(str(k) + ' can be used as index to access element ' + str(my_list[k]))"
   ]
  },
  {
   "cell_type": "markdown",
   "metadata": {
    "tags": []
   },
   "source": [
    "### 7.2 Looping over a dictionary\n",
    "Iterating over a dictionary uses the function items() to produce a __sequence of key:value pairs__, which are assigned to the loop variables k and v respectively during each iteration in the example below:"
   ]
  },
  {
   "cell_type": "code",
   "execution_count": null,
   "metadata": {
    "scrolled": true
   },
   "outputs": [],
   "source": [
    "my_dict = {'Marc': 34, 'Anna': 66, 'Pete': 98, 'Elena':32}\n",
    "for k, v in my_dict.items():\n",
    "    print(str(k) + ' -> ' + str(v))"
   ]
  },
  {
   "cell_type": "markdown",
   "metadata": {},
   "source": [
    "### 7.3 Break and continue statements\n",
    "If a __break__ statement is executed in the body of a loop, the loop immediately terminates. The script will then continue after the loop body:"
   ]
  },
  {
   "cell_type": "code",
   "execution_count": null,
   "metadata": {},
   "outputs": [],
   "source": [
    "# Iterate over my_list and check if each item evaluates to True.\n",
    "# If item evaluates to False, exit loop and resume script after loop body.\n",
    "my_list = [1, \"samo\", 5, None, 34, 64]\n",
    "for item in my_list:\n",
    "    if item:\n",
    "        print(\"Item evaluated to True: \" + str(item))\n",
    "    else:\n",
    "        print(\"Oh no! Item evaluated to False: \" + str(item))\n",
    "        print(\"Exit loop!\")\n",
    "        break\n",
    "print(\"I am a statement after the loop body!\")"
   ]
  },
  {
   "cell_type": "markdown",
   "metadata": {},
   "source": [
    "If a __continue__ statement is executed in the body of a loop, the current iteration immediately terminates and the __next__ iteration starts:"
   ]
  },
  {
   "cell_type": "code",
   "execution_count": null,
   "metadata": {},
   "outputs": [],
   "source": [
    "# Execute the loop 3 times (with k = 0, 1, 2) and print \"ping\" followed by \"pong\".\n",
    "# If k == 1, print \"SMASH\" and execute continue, therefore skipping the \"pong\" in this iteration.\n",
    "# Note how the third iteration is still executed normally.\n",
    "for k in range(3):\n",
    "    print(\"ping\")\n",
    "    if k == 1:\n",
    "        print(\"SMASH\")\n",
    "        continue\n",
    "    print(\"pong\")"
   ]
  },
  {
   "cell_type": "markdown",
   "metadata": {},
   "source": [
    "### 7.4 While Loops\n",
    "If you look at the syntax of the code above, you'll notice that we used the word __for__ a lot which is the reason the kind of loops used above are called __for-loops__. This construct is handy if we need to iterate over a known set of elements, for example a list of times.\n",
    "\n",
    "There is a second popular kind of loops called __while-loops__. Although for and while loops are basically the same under the hood (story for another time), the syntax of the while loop makes it particularly handy if we want to execute a loop as long as a certain condition is true. This might be the case when we do not know before-hand how many iterations are required, for example if we ask a user for an input and want to ask again if the input is invalid. "
   ]
  },
  {
   "cell_type": "code",
   "execution_count": null,
   "metadata": {},
   "outputs": [],
   "source": [
    "k = 0\n",
    "# Arriving here, python evaluates the expression. \n",
    "# If it is true, run the loop body. If it is false, skip loop body nd continue afterwards.\n",
    "while k < 5:\n",
    "    print(f'While loop condition k < 5 evaluated to {bool(k < 5)}')\n",
    "    print(k)\n",
    "    k += 1\n",
    "print('-'*30)\n",
    "print('EXITED THE WHILE LOOP - WHY?')\n",
    "print(f'While loop condition k < 5 evaluated to {bool(k < 5)}')"
   ]
  },
  {
   "cell_type": "markdown",
   "metadata": {},
   "source": [
    "A commonly used pattern is to use a while look with a condition that is always true to basically create an infinite loop which only exists in the loop body via break statement once a certain condition is true:"
   ]
  },
  {
   "cell_type": "code",
   "execution_count": null,
   "metadata": {},
   "outputs": [],
   "source": [
    "from random import randint\n",
    "# While True will run forever, so better be confident that eventually a\n",
    "# break statement is reached to exit the loop!\n",
    "while True:\n",
    "    # What does this randint function do? Why not confirming your guess via google?:)\n",
    "    answer = randint(1, 99)\n",
    "    if answer == 42:\n",
    "        print('We found the answer to everything!!! It\\'s... 42')\n",
    "        break # Exit the while loop\n",
    "    else:\n",
    "        # Can you guess what {k:2} does in this f-string? Hint: Google python f-string padding\n",
    "        print(f'{answer:2} is not the answer we are looking for... Let\\'s try again!')"
   ]
  },
  {
   "cell_type": "markdown",
   "metadata": {},
   "source": [
    "Fun fact, did you know that you can also use an else clause as part of python loop statements? Coming from basically any other language, this might seem strange and in most cases you should be fine without it. Still a cool way to show off your python knowledge to impress your friends at the bar, so take a minute to catch up [here](https://www.geeksforgeeks.org/using-else-conditional-statement-with-for-loop-in-python/). "
   ]
  },
  {
   "cell_type": "markdown",
   "metadata": {
    "tags": []
   },
   "source": [
    "## 8. (Optional) Comprehensions"
   ]
  },
  {
   "cell_type": "markdown",
   "metadata": {},
   "source": [
    "### 8.1 List comprehension"
   ]
  },
  {
   "cell_type": "markdown",
   "metadata": {},
   "source": [
    "Often we want to iterate over a sequence, process each item and then return a new list with the results. In that case python offers a special syntax construct called __list comprehension__. A list comprehension is nothing new, it really is just another way to write a for-loop. Hence, every list comprehension can be also written as a classic for-loop!\n",
    "\n",
    "This syntax is sometimes more concise than a regular for loop at the risk of also becoming more confusing. When in doubt, always choose expressiveness (regular for loop)!\n",
    "\n",
    "The following list comprehension squares all elements of a list:"
   ]
  },
  {
   "cell_type": "code",
   "execution_count": null,
   "metadata": {
    "tags": []
   },
   "outputs": [],
   "source": [
    "my_list = [1, 2, 3, 4, 5]\n",
    "\n",
    "# List comprehension\n",
    "squares = [i**2 for i in my_list]\n",
    "print(squares)\n",
    "\n",
    "# Classic way to write the list comprehension above:\n",
    "squares = []\n",
    "for i in my_list:\n",
    "    squares.append(i**2)\n",
    "print(squares)"
   ]
  },
  {
   "cell_type": "markdown",
   "metadata": {},
   "source": [
    "It is also possible to __conditionally__ process elements using if-else statements. The example below only squares elements that are >= 3:"
   ]
  },
  {
   "cell_type": "code",
   "execution_count": null,
   "metadata": {},
   "outputs": [],
   "source": [
    "my_list = [1, 2, 3, 4, 5]\n",
    "\n",
    "# List comprehension\n",
    "squares = [i**2 for i in my_list if i >= 3]\n",
    "print(squares)\n",
    "\n",
    "# Classic way to write the list comprehension above:\n",
    "squares = []\n",
    "for i in my_list:\n",
    "    if i >= 3:\n",
    "        squares.append(i**2)\n",
    "print(squares)"
   ]
  },
  {
   "cell_type": "markdown",
   "metadata": {},
   "source": [
    "It is also possible to use __nested for-loops__ in list comprehensions:"
   ]
  },
  {
   "cell_type": "code",
   "execution_count": null,
   "metadata": {
    "scrolled": true
   },
   "outputs": [],
   "source": [
    "card_values = ['2', '3', '4', '5', '6', '7', '8', '9', '10', 'J', 'Q', 'K', 'A']\n",
    "card_suits = ['hearts', 'spades', 'clubs', 'diamonds']\n",
    "\n",
    "# List comprehension:\n",
    "card_deck = [value + ' of ' + suit for value in card_values for suit in card_suits]\n",
    "print(card_deck)\n",
    "print('-' * 40)\n",
    "\n",
    "# Classic way to write the list comprehension above:\n",
    "card_deck = []\n",
    "for suit in card_suits:\n",
    "    for value in card_values:\n",
    "        card_deck.append(value + ' of ' + suit)\n",
    "print(card_deck)"
   ]
  },
  {
   "cell_type": "markdown",
   "metadata": {},
   "source": [
    "Remember what we said about the risk of becoming confusing? Please only use nested list comprehensions if you have a really good reason! Your future self, who re-reads the code a few months from now, will surely prefer plain nested classic for loops."
   ]
  },
  {
   "cell_type": "markdown",
   "metadata": {},
   "source": [
    "### 8.2 Dictionary comprehension"
   ]
  },
  {
   "cell_type": "markdown",
   "metadata": {},
   "source": [
    "Dictionary comprehensions are similar to list comprehensions. They are enclosed by curly brackets { } and they return a dictionary instead of a list. We will just scratch the surface here with two small examples."
   ]
  },
  {
   "cell_type": "code",
   "execution_count": null,
   "metadata": {},
   "outputs": [],
   "source": [
    "# Create a new dictionary from a list of names - acting as keys - with associated values of 0.\n",
    "names = ['Peter', 'Sarah', 'Milow', 'Fred']\n",
    "new_dict = {name:0 for name in names}\n",
    "print(new_dict)"
   ]
  },
  {
   "cell_type": "code",
   "execution_count": null,
   "metadata": {},
   "outputs": [],
   "source": [
    "# Create a new dictionary from a two lists with corresponding items acting as keys and values.\n",
    "names = ['Peter', 'Sarah', 'Milow', 'Fred']\n",
    "ages = [37, 19, 87, 34]\n",
    "new_dict = {n:a for n,a in zip(names, ages)}\n",
    "print(new_dict)"
   ]
  },
  {
   "cell_type": "code",
   "execution_count": null,
   "metadata": {},
   "outputs": [],
   "source": [
    "# Create a new dictionary from an existing dictionatry with some processing.\n",
    "items_with_prices = {'gloves': 40, 'tshirt':10, 'dry_bread':4}\n",
    "# Apply discout of 50%\n",
    "discounted_items_with_prices = {item: 0.5*price for item,price in items_with_prices.items()}\n",
    "print(discounted_items_with_prices)\n",
    "\n",
    "# Beware of complicated comprehensions! Maybe a classic loop is clearer?\n",
    "discounted_items_with_prices = {}\n",
    "for item, price in items_with_prices.items():\n",
    "    discounted_items_with_prices[item] = 0.5 * price\n",
    "print(discounted_items_with_prices)"
   ]
  },
  {
   "cell_type": "code",
   "execution_count": null,
   "metadata": {},
   "outputs": [],
   "source": []
  }
 ],
 "metadata": {
  "kernelspec": {
   "display_name": "Python 3 (ipykernel)",
   "language": "python",
   "name": "python3"
  },
  "language_info": {
   "codemirror_mode": {
    "name": "ipython",
    "version": 3
   },
   "file_extension": ".py",
   "mimetype": "text/x-python",
   "name": "python",
   "nbconvert_exporter": "python",
   "pygments_lexer": "ipython3",
   "version": "3.9.9"
  }
 },
 "nbformat": 4,
 "nbformat_minor": 4
}
