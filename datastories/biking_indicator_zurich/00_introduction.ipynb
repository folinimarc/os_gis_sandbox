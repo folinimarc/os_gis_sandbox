{
 "cells": [
  {
   "cell_type": "markdown",
   "id": "9516e166-cef9-436b-855b-704ce41a9c14",
   "metadata": {
    "tags": []
   },
   "source": [
    "# Develop a \"biking suitablility\" indicator for Zürich \n",
    "Here you will learn...\n",
    "- how to inspect shapefiles and load them to PostGIS using GDAL's ogr command line utilities `ogrinfo` and `ogr2ogr`.\n",
    "- how to perform spatial querys and aggregation in PostGIS to sum the length of line features in polygons.\n",
    "- how to turn this spatial query into a view - a vitual table - that automatically updates as the underlying data does.\n",
    "- how to retrieve the data in QGIS to create a styled map."
   ]
  },
  {
   "cell_type": "markdown",
   "id": "9559a9f4-b320-4a26-8f32-f4974bef4b08",
   "metadata": {
    "tags": []
   },
   "source": [
    "## Scenario\n",
    "\n",
    "You are working at a small company that is specialized in city micromobility. Your company allows people to easily rent bikes on an ad-hoc basis to get around town. You recently participated in a brainstorming session how to increase public awareness about the fact that still many roads are not suitable to be used by bikes. \n",
    "\n",
    "At that meeting the idea was born to visualize the ratio of suitable streets for each district of Zürich. This ratio, or \"biking suitability indicator\", can then be turned into beautiful choropleth maps to highlight leader and laggard districts and thus surely spark a public debate on the topic. Your team even had the idea to not make this a one-time thing, but to update this indicator and downstream visualizations on a monthly basis to incentivize the government to take action.\n",
    "\n",
    "Excited by this idea, your friend checked the [publicly available geodata of the city of Zürich](https://www.stadt-zuerich.ch/geodaten/) and sent you two shapefiles containing the city districts and the road network with indication which roads are suitable for biking. As the GIS expert the joy of making this work is now on you..."
   ]
  },
  {
   "cell_type": "markdown",
   "id": "2e6123d1-b40b-4bc1-a35d-4adc375852af",
   "metadata": {},
   "source": [
    "## The plan\n",
    "It is quite common at your company to share shapefiles with your colleagues. This has led to problems in the past whereby data inconsistency was a result of coworkers not always using the most updated version of the data and general frustration arose from keeping track of email attachments and download links.\n",
    "\n",
    "You plan to make use of a spatial database which can be accessed by your coworkers to reduce the number of flatfiles being sent around. Furthermore, you plan to process the data in the spatial database and create a view from the result, which will automatically update when the underlying data changes - thus making the monthly update a very simple process. \n",
    "\n",
    "**You plan your work in steps:**\n",
    "1. Inspect the data (shapefiles) and create PostGIS tables with that data.\n",
    "2. Write a spatial query to aggregate the data in PostGIS.\n",
    "3. Create a view from the result of the spatial query.\n",
    "4. Make sure that coworkers can access the data (e.g. via QGIS)."
   ]
  },
  {
   "cell_type": "code",
   "execution_count": null,
   "id": "850e02d7-b7ac-4f12-955a-1dbff0aec2d1",
   "metadata": {},
   "outputs": [],
   "source": []
  }
 ],
 "metadata": {
  "kernelspec": {
   "display_name": "Python 3 (ipykernel)",
   "language": "python",
   "name": "python3"
  },
  "language_info": {
   "codemirror_mode": {
    "name": "ipython",
    "version": 3
   },
   "file_extension": ".py",
   "mimetype": "text/x-python",
   "name": "python",
   "nbconvert_exporter": "python",
   "pygments_lexer": "ipython3",
   "version": "3.9.9"
  }
 },
 "nbformat": 4,
 "nbformat_minor": 5
}
