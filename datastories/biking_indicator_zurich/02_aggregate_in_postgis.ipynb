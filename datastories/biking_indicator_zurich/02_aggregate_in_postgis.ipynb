{
 "cells": [
  {
   "cell_type": "markdown",
   "id": "9a56a7ae-e662-48d7-8f1a-62eeec0f1365",
   "metadata": {},
   "source": [
    "# Aggregate data in PostGIS"
   ]
  },
  {
   "cell_type": "markdown",
   "id": "d7b9e4a7-02dc-4227-a86f-3848964e9fb8",
   "metadata": {},
   "source": [
    "```sql\n",
    "SELECT \n",
    "  SUM(ST_Length(ST_Intersection(zh_districts.geom,zh_roads_velo.geom))) AS velo,\n",
    "  SUM(ST_Length(ST_Intersection(zh_districts.geom,zh_roads.geom))) AS total\n",
    "FROM \n",
    "  zh_districts, \n",
    "  zh_roads,\n",
    "  zh_roads_velo = (SELECT geom FROM zh_roads WHERE velo=1)\n",
    "WHERE ST_Intersects(zh_districts.geom, zh_roads.geom)\n",
    "GROUP BY zh_districts;\n",
    "```"
   ]
  },
  {
   "cell_type": "code",
   "execution_count": null,
   "id": "e2fad901-e105-4e1c-8291-90d537628b4f",
   "metadata": {},
   "outputs": [],
   "source": []
  },
  {
   "cell_type": "code",
   "execution_count": null,
   "id": "7622c9fd-3247-4d86-81df-59df12879f9c",
   "metadata": {},
   "outputs": [],
   "source": []
  },
  {
   "cell_type": "markdown",
   "id": "8a1907db-92a8-423b-b1f8-bb5ad8fce1de",
   "metadata": {},
   "source": [
    "WORK IN PROGRESS"
   ]
  },
  {
   "cell_type": "markdown",
   "id": "5ba3c344-3a5b-466b-ae36-01fe198f975b",
   "metadata": {},
   "source": [
    "Simple query with airport count:\n",
    "```sql\n",
    "SELECT c.\"NAME\" as name, COUNT(a.geometry) AS count_airports \n",
    "FROM ne_countries AS c, ne_airports AS a\n",
    "WHERE st_contains(c.geometry,a.geometry)\n",
    "GROUP BY c.\"NAME\";\n",
    "```\n",
    "\n",
    "Query with airport count and average GDP per airport:\n",
    "```sql\n",
    "SELECT \n",
    "    c.\"NE_ID\" AS objectid,\n",
    "    c.\"NAME\" AS country_name, \n",
    "    COUNT(a.ne_id) AS count_airports,\n",
    "    c.\"GDP_MD\" AS gdp_musd,\n",
    "    ROUND(c.\"GDP_MD\" / COUNT(a.ne_id)) AS gdp_per_airport,\n",
    "    c.geometry AS geometry\n",
    "FROM ne_countries AS c, ne_airports AS a\n",
    "WHERE st_contains(c.geometry,a.geometry)\n",
    "GROUP BY c.\"NE_ID\", c.\"NAME\", c.\"GDP_MD\", c.geometry;\n",
    "```\n",
    "\n",
    "Create a view:\n",
    "```sql\n",
    "CREATE or REPLACE VIEW airports_per_country AS\n",
    "    SELECT \n",
    "        c.\"NE_ID\" AS objectid,\n",
    "        c.\"NAME\" AS country_name, \n",
    "        COUNT(a.ne_id) AS count_airports,\n",
    "        c.\"GDP_MD\" AS gdp_musd,\n",
    "        ROUND(c.\"GDP_MD\" / COUNT(a.ne_id)) AS gdp_per_airport,\n",
    "        c.geometry AS geometry\n",
    "    FROM ne_countries AS c, ne_airports AS a\n",
    "    WHERE st_contains(c.geometry,a.geometry)\n",
    "    GROUP BY c.\"NE_ID\", c.\"NAME\", c.\"GDP_MD\", c.geometry;\n",
    "```"
   ]
  },
  {
   "cell_type": "code",
   "execution_count": null,
   "id": "850e02d7-b7ac-4f12-955a-1dbff0aec2d1",
   "metadata": {},
   "outputs": [],
   "source": []
  }
 ],
 "metadata": {
  "kernelspec": {
   "display_name": "Python 3 (ipykernel)",
   "language": "python",
   "name": "python3"
  },
  "language_info": {
   "codemirror_mode": {
    "name": "ipython",
    "version": 3
   },
   "file_extension": ".py",
   "mimetype": "text/x-python",
   "name": "python",
   "nbconvert_exporter": "python",
   "pygments_lexer": "ipython3",
   "version": "3.9.9"
  }
 },
 "nbformat": 4,
 "nbformat_minor": 5
}
