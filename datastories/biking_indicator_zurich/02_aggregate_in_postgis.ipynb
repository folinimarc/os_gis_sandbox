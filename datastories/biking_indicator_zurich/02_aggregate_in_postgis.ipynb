{
 "cells": [
  {
   "cell_type": "markdown",
   "id": "8ad568bb-c45a-4d12-88ff-5ad59171f471",
   "metadata": {},
   "source": [
    "```shell\n",
    "psql ${DB_CONN} -c \"SELECT COUNT(*) FROM zh_roads;\"\n",
    "```\n",
    "\n",
    "```shell\n",
    "psql ${DB_CONN} -c \"CREATE INDEX IF NOT EXISTS velox_idx ON zh_roads(velo);\"\n",
    "```"
   ]
  },
  {
   "cell_type": "markdown",
   "id": "9a56a7ae-e662-48d7-8f1a-62eeec0f1365",
   "metadata": {},
   "source": [
    "# Aggregate data in PostGIS"
   ]
  },
  {
   "cell_type": "markdown",
   "id": "d7b9e4a7-02dc-4227-a86f-3848964e9fb8",
   "metadata": {},
   "source": [
    "```sql\n",
    "SELECT \n",
    "    zh_districts.stznr AS stznr, \n",
    "    zh_districts.stzname AS quartier, \n",
    "    velo_sum.total AS sum_velo, \n",
    "    total_sum.total AS sum_total,\n",
    "    ROUND((velo_sum.total/total_sum.total*100)::numeric, 0) AS percentage\n",
    "FROM\n",
    "    (SELECT zh_districts.fid, SUM(ST_Length(ST_Intersection(zh_districts.geom,zh_roads.geom))) AS total\n",
    "    FROM zh_districts, zh_roads\n",
    "    WHERE ST_Intersects(zh_districts.geom, zh_roads.geom)\n",
    "    GROUP BY zh_districts.fid) AS total_sum,\n",
    "    (SELECT zh_districts.fid, SUM(ST_Length(ST_Intersection(zh_districts.geom,zh_roads.geom))) AS total\n",
    "    FROM zh_districts, zh_roads\n",
    "    WHERE ST_Intersects(zh_districts.geom, zh_roads.geom)\n",
    "    AND zh_roads.velo=1\n",
    "    GROUP BY zh_districts.fid) AS velo_sum,\n",
    "    zh_districts\n",
    "WHERE velo_sum.fid=total_sum.fid AND total_sum.fid=zh_districts.fid\n",
    "```"
   ]
  },
  {
   "cell_type": "code",
   "execution_count": null,
   "id": "e2fad901-e105-4e1c-8291-90d537628b4f",
   "metadata": {},
   "outputs": [],
   "source": []
  },
  {
   "cell_type": "code",
   "execution_count": null,
   "id": "7622c9fd-3247-4d86-81df-59df12879f9c",
   "metadata": {},
   "outputs": [],
   "source": []
  }
 ],
 "metadata": {
  "kernelspec": {
   "display_name": "Python 3 (ipykernel)",
   "language": "python",
   "name": "python3"
  },
  "language_info": {
   "codemirror_mode": {
    "name": "ipython",
    "version": 3
   },
   "file_extension": ".py",
   "mimetype": "text/x-python",
   "name": "python",
   "nbconvert_exporter": "python",
   "pygments_lexer": "ipython3",
   "version": "3.8.10"
  }
 },
 "nbformat": 4,
 "nbformat_minor": 5
}
