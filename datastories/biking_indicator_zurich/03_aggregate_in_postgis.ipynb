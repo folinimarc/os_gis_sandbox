{
 "cells": [
  {
   "cell_type": "markdown",
   "id": "9a56a7ae-e662-48d7-8f1a-62eeec0f1365",
   "metadata": {},
   "source": [
    "# Aggregate data in PostGIS"
   ]
  },
  {
   "cell_type": "markdown",
   "id": "00d79697-0fdb-4e3e-91b6-1b9a04703797",
   "metadata": {},
   "source": [
    "```sql\n",
    "SELECT zh_districts.stzname, SUM(ST_Length(ST_Intersection(zh_districts.geom,zh_roads.geom))) AS total\n",
    "FROM zh_districts, zh_roads\n",
    "WHERE ST_Intersects(zh_districts.geom, zh_roads.geom)\n",
    "GROUP BY zh_districts.stzname\n",
    "```"
   ]
  },
  {
   "cell_type": "markdown",
   "id": "ebbdce75-c2da-427b-a6eb-4e264a3eab1b",
   "metadata": {},
   "source": [
    "```sql\n",
    "SELECT zh_districts.stzname, SUM(ST_Length(ST_Intersection(zh_districts.geom,zh_roads.geom))) AS total\n",
    "FROM zh_districts, zh_roads\n",
    "WHERE ST_Intersects(zh_districts.geom, zh_roads.geom)\n",
    "AND zh_roads.velo=1\n",
    "GROUP BY zh_districts.stzname\n",
    "```"
   ]
  },
  {
   "cell_type": "markdown",
   "id": "3bf6fb32-1f2a-4106-99de-55d3689e832f",
   "metadata": {},
   "source": [
    "```sql\n",
    "CREATE VIEW v_bike_indicator AS\n",
    "SELECT \n",
    "    zh_districts.stznr AS zonennr, \n",
    "    zh_districts.stzname AS zonenname, \n",
    "    velo_sum.total AS sum_velo, \n",
    "    total_sum.total AS sum_total,\n",
    "    ROUND((velo_sum.total/total_sum.total*100)::numeric, 0) AS percentage,\n",
    "    zh_districts.geom AS geom\n",
    "FROM\n",
    "    (SELECT zh_districts.fid, SUM(ST_Length(ST_Intersection(zh_districts.geom,zh_roads.geom))) AS total\n",
    "    FROM zh_districts, zh_roads\n",
    "    WHERE ST_Intersects(zh_districts.geom, zh_roads.geom)\n",
    "    GROUP BY zh_districts.fid) AS total_sum,\n",
    "    (SELECT zh_districts.fid, SUM(ST_Length(ST_Intersection(zh_districts.geom,zh_roads.geom))) AS total\n",
    "    FROM zh_districts, zh_roads\n",
    "    WHERE ST_Intersects(zh_districts.geom, zh_roads.geom)\n",
    "    AND zh_roads.velo=1\n",
    "    GROUP BY zh_districts.fid) AS velo_sum,\n",
    "    zh_districts\n",
    "WHERE velo_sum.fid=total_sum.fid AND total_sum.fid=zh_districts.fid;\n",
    "```"
   ]
  },
  {
   "cell_type": "code",
   "execution_count": null,
   "id": "e2fad901-e105-4e1c-8291-90d537628b4f",
   "metadata": {},
   "outputs": [],
   "source": []
  }
 ],
 "metadata": {
  "kernelspec": {
   "display_name": "Python 3 (ipykernel)",
   "language": "python",
   "name": "python3"
  },
  "language_info": {
   "codemirror_mode": {
    "name": "ipython",
    "version": 3
   },
   "file_extension": ".py",
   "mimetype": "text/x-python",
   "name": "python",
   "nbconvert_exporter": "python",
   "pygments_lexer": "ipython3",
   "version": "3.8.10"
  }
 },
 "nbformat": 4,
 "nbformat_minor": 5
}
