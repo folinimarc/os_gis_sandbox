{
 "cells": [
  {
   "cell_type": "markdown",
   "id": "dc429898-a24b-4e77-bd9c-3c18a4e14c67",
   "metadata": {},
   "source": [
    "# (OPTIONAL) Inspect data & load to postgis using python geopandas"
   ]
  },
  {
   "cell_type": "markdown",
   "id": "7ca811f4-2d34-424e-9982-ffd7593dd5c0",
   "metadata": {},
   "source": [
    "It is also possible to use the Python ecosystem to inspect spatial data and load it to PostGIS. This section is optional, as the result is exactly the same as when using `ògr2ogr`. It is simply a different set of tools to achieve the same goal. Depending on your preferences and already existing technology stack, you might prefer one way over the other. In the following Python is used to explore and load the districts dataset into PostGIS.\n",
    "\n",
    "We will make use of [Geopandas](https://geopandas.org/en/stable/), which is built on the famous python package Pandas. Geopandas interfaces with many other specialized packages of the python geo-ecosystem to provide an amazing user experience."
   ]
  },
  {
   "cell_type": "markdown",
   "id": "ae0e9631-190b-4b88-a388-171b9dce0a5b",
   "metadata": {
    "tags": []
   },
   "source": [
    "# Explore districts data\n",
    "Run the following cells to read and visualize the data."
   ]
  },
  {
   "cell_type": "code",
   "execution_count": null,
   "id": "f65b1ab0-f18f-4a0d-a7ef-681e22b600f0",
   "metadata": {},
   "outputs": [],
   "source": [
    "import geopandas\n",
    "\n",
    "# Reading data is straight-forward with Geopandas. Nice to know: Under the hood Geopandas uses the \n",
    "# specialized Fiona package, which is all about reading and writing data.\n",
    "districts_data = geopandas.read_file(\"./data/20220405_statistischeQuartiereZurich/stzh.adm_statzonen_v.shp\")"
   ]
  },
  {
   "cell_type": "code",
   "execution_count": null,
   "id": "183f602f-e3c7-4eb3-b4b5-a6764cf64512",
   "metadata": {},
   "outputs": [],
   "source": [
    "# Using .head(N) we can display the first N rows of data.\n",
    "districts_data.head(3)"
   ]
  },
  {
   "cell_type": "code",
   "execution_count": null,
   "id": "6da2e216-418f-42e6-a878-29cd20e26e97",
   "metadata": {},
   "outputs": [],
   "source": [
    "# Geopandas makes it easy to obtain all kind of information about the data we loaded.\n",
    "print(f'Nr of features: {len(districts_data)}')\n",
    "print(f'Coordinate reference system: {districts_data.crs}')\n",
    "print(f'Nr of attribute columns: {len(districts_data.columns)}')\n",
    "print(40*'-')\n",
    "print(f'Column names:')\n",
    "for column in districts_data.columns:\n",
    "    print(column)"
   ]
  },
  {
   "cell_type": "code",
   "execution_count": null,
   "id": "63339aca-c779-45b6-bea7-d4f2ba534a71",
   "metadata": {},
   "outputs": [],
   "source": [
    "# Using .plot() generates static visualizations. \n",
    "# It uses the famous matplotlib package under the hood. \n",
    "districts_data.plot()"
   ]
  },
  {
   "cell_type": "code",
   "execution_count": null,
   "id": "9359f0ad-b441-42cf-ad80-c9bc88d5e86a",
   "metadata": {},
   "outputs": [],
   "source": [
    "# There is even the possibility to visualize data in an interactive way using .explore().\n",
    "# This is possible thanks to Geopandas making use of the folium python package.\n",
    "districts_data.explore(column='stzname', legend=False)"
   ]
  },
  {
   "cell_type": "markdown",
   "id": "9b196a8d-e50e-40f1-8076-2926043b78e0",
   "metadata": {},
   "source": [
    "# Load the data into PostGIS\n",
    "Geopandas uses packages like sqlalchemy under the hood which are specialized in interacting with databases. A first step is the creation of a connection string, a simple text which contains all information needed to connect to the database following a particular convention. This connection string is then used to establish a connection to the database (called engine below) which is used by geopandas to load the data into PostGIS.\n",
    "\n",
    "**Your turn:**\n",
    "- Replace DATABASE_NAME, HOST, PORT, USERNAME and PASSWORD in the cell below with the connection information of the PostGIS sandbox component. Make sure to keep the quotes (') so that python reads the connection information as strings (text).\n",
    "- Run both cells below to load the data into the database.\n",
    "- Once again you can use pgAdmin to check the newly created table in the database."
   ]
  },
  {
   "cell_type": "code",
   "execution_count": null,
   "id": "974b54bf-c762-4f1f-bf0d-729738528965",
   "metadata": {},
   "outputs": [],
   "source": [
    "user = 'USER'\n",
    "password = 'PASSWORD'\n",
    "host = 'HOST'\n",
    "port = 'PORT'\n",
    "database_name = 'DATABASE_NAME'\n",
    "\n",
    "connection_string = f'postgresql://{user}:{password}@{host}:{port}/{database_name}'\n",
    "print(f'{connection_string=}')"
   ]
  },
  {
   "cell_type": "code",
   "execution_count": null,
   "id": "19108079-26a0-49d5-a6d9-6eed012e4ab1",
   "metadata": {},
   "outputs": [],
   "source": [
    "from sqlalchemy import create_engine\n",
    "\n",
    "table_name = 'zh_districts_from_geopandas' \n",
    "print(f'Start loading to PostGIS table with name {table_name}...')\n",
    "engine = create_engine(connection_string)\n",
    "districts_data.to_postgis(table_name, engine, if_exists='replace', index=False)\n",
    "print('Successfully loaded')"
   ]
  },
  {
   "cell_type": "code",
   "execution_count": null,
   "id": "5082b50c-281c-44f5-a584-d888d0e72cb3",
   "metadata": {},
   "outputs": [],
   "source": []
  }
 ],
 "metadata": {
  "kernelspec": {
   "display_name": "Python 3 (ipykernel)",
   "language": "python",
   "name": "python3"
  },
  "language_info": {
   "codemirror_mode": {
    "name": "ipython",
    "version": 3
   },
   "file_extension": ".py",
   "mimetype": "text/x-python",
   "name": "python",
   "nbconvert_exporter": "python",
   "pygments_lexer": "ipython3",
   "version": "3.8.10"
  }
 },
 "nbformat": 4,
 "nbformat_minor": 5
}
