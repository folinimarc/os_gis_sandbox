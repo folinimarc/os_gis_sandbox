{
 "cells": [
  {
   "cell_type": "markdown",
   "id": "dc429898-a24b-4e77-bd9c-3c18a4e14c67",
   "metadata": {},
   "source": [
    "# Explore data & load to PostGIS using ogr2ogr"
   ]
  },
  {
   "cell_type": "markdown",
   "id": "9a56a7ae-e662-48d7-8f1a-62eeec0f1365",
   "metadata": {
    "tags": []
   },
   "source": [
    "In this section we will use the GDAL command line utility [ogrinfo](https://gdal.org/programs/ogrinfo.html) to list explore the datasets and make sure they match our expectations. The following commands are run on the command line. This jupyter lab setup provides you with a linux bash shell with the necessary commands configured. \n",
    "\n",
    "Let's open the terminal and navigate to the folder of this story (same folder as this jupyter notebook). Use the commands `pwd` (shows where you currently are), `ls` (lists folder and filenames) and `cd` (change directory). Good to know: When using `cd` you can start typing and hit Tabulator for autocompletion."
   ]
  },
  {
   "cell_type": "markdown",
   "id": "ae0e9631-190b-4b88-a388-171b9dce0a5b",
   "metadata": {
    "tags": []
   },
   "source": [
    "# Explore road network data"
   ]
  },
  {
   "cell_type": "markdown",
   "id": "1fa3aa45-5e33-40ad-a2c4-a7eb1955e007",
   "metadata": {},
   "source": [
    "Let's now use ogrinfo to explore the road network shapefile using read only mode (`-ro`) and print only summary information (`-so`). Run the following command in the terminal:\n",
    "\n",
    "```shell\n",
    "ogrinfo -ro -so \"./data/20220405_veloFusswegnetzZurich/taz_mm.tbl_routennetz.shp\"\n",
    "```\n",
    "\n",
    "![open terminal](./story_images/open_terminal.gif)\n",
    "\n",
    "The output lists all layers in the data source. Not surprisingly there is only a single layer in the shapefile:\n",
    "```\n",
    "INFO: Open of `./data/20220405_veloFusswegnetzZurich/taz_mm.tbl_routennetz.shp'\n",
    "     using driver `ESRI Shapefile' successful.\n",
    "1: taz_mm.tbl_routennetz (Line String)\n",
    "```"
   ]
  },
  {
   "cell_type": "markdown",
   "id": "2e731b3a-d89d-4d20-8355-6b526ee65de4",
   "metadata": {},
   "source": [
    "When a layer is specified, ogrinfo provides useful information about this specific layer. Run the following in the terminal:\n",
    "\n",
    "```shell\n",
    "ogrinfo -ro -so \"./data/20220405_veloFusswegnetzZurich/taz_mm.tbl_routennetz.shp\" \"taz_mm.tbl_routennetz\"\n",
    "```\n",
    "\n",
    "The terminal should show the following output:\n",
    "```\n",
    "INFO: Open of `./data/20220405_veloFusswegnetzZurich/taz_mm.tbl_routennetz.shp'\n",
    "      using driver `ESRI Shapefile' successful.\n",
    "\n",
    "Layer name: taz_mm.tbl_routennetz\n",
    "Metadata:\n",
    "  DBF_DATE_LAST_UPDATE=2022-04-05\n",
    "Geometry: Line String\n",
    "Feature Count: 40065\n",
    "Extent: (2676247.120400, 1241239.066500) - (2689662.340100, 1254306.994900)\n",
    "Layer SRS WKT:\n",
    "PROJCRS[\"CH1903+ / LV95\",\n",
    "    BASEGEOGCRS[\"CH1903+\",\n",
    "        DATUM[\"CH1903+\",\n",
    "            ELLIPSOID[\"Bessel 1841\",6377397.155,299.1528128,\n",
    "                LENGTHUNIT[\"metre\",1]]],\n",
    "        PRIMEM[\"Greenwich\",0,\n",
    "            ANGLEUNIT[\"degree\",0.0174532925199433]],\n",
    "        ID[\"EPSG\",4150]],\n",
    "    CONVERSION[\"Swiss Oblique Mercator 1995\",\n",
    "        METHOD[\"Hotine Oblique Mercator (variant B)\",\n",
    "            ID[\"EPSG\",9815]],\n",
    "        PARAMETER[\"Latitude of projection centre\",46.9524055555556,\n",
    "            ANGLEUNIT[\"degree\",0.0174532925199433],\n",
    "            ID[\"EPSG\",8811]],\n",
    "        PARAMETER[\"Longitude of projection centre\",7.43958333333333,\n",
    "            ANGLEUNIT[\"degree\",0.0174532925199433],\n",
    "            ID[\"EPSG\",8812]],\n",
    "        PARAMETER[\"Azimuth of initial line\",90,\n",
    "            ANGLEUNIT[\"degree\",0.0174532925199433],\n",
    "            ID[\"EPSG\",8813]],\n",
    "        PARAMETER[\"Angle from Rectified to Skew Grid\",90,\n",
    "            ANGLEUNIT[\"degree\",0.0174532925199433],\n",
    "            ID[\"EPSG\",8814]],\n",
    "        PARAMETER[\"Scale factor on initial line\",1,\n",
    "            SCALEUNIT[\"unity\",1],\n",
    "            ID[\"EPSG\",8815]],\n",
    "        PARAMETER[\"Easting at projection centre\",2600000,\n",
    "            LENGTHUNIT[\"metre\",1],\n",
    "            ID[\"EPSG\",8816]],\n",
    "        PARAMETER[\"Northing at projection centre\",1200000,\n",
    "            LENGTHUNIT[\"metre\",1],\n",
    "            ID[\"EPSG\",8817]]],\n",
    "    CS[Cartesian,2],\n",
    "        AXIS[\"(E)\",east,\n",
    "            ORDER[1],\n",
    "            LENGTHUNIT[\"metre\",1]],\n",
    "        AXIS[\"(N)\",north,\n",
    "            ORDER[2],\n",
    "            LENGTHUNIT[\"metre\",1]],\n",
    "    USAGE[\n",
    "        SCOPE[\"Cadastre, engineering survey, topographic mapping (large and medium scale).\"],\n",
    "        AREA[\"Liechtenstein; Switzerland.\"],\n",
    "        BBOX[45.82,5.96,47.81,10.49]],\n",
    "    ID[\"EPSG\",2056]]\n",
    "Data axis to CRS axis mapping: 1,2\n",
    "id1: Real (20.0)\n",
    "velo: Integer (6.0)\n",
    "velostreif: String (5.0)\n",
    "veloweg: Integer (6.0)\n",
    "einbahn: String (5.0)\n",
    "fuss: Integer (6.0)\n",
    "name: String (150.0)\n",
    "map_velo: Integer (6.0)\n",
    "map_fuss: Integer (6.0)\n",
    "se_anno_ca: String (254.0)\n",
    "objectid: Real (38.0)\n",
    "```\n",
    "\n",
    "**How cool is that?** With this simple command we get a summary about the number of features (around 40k), the coodinate reference system (CH1903+ / LV95) and the attribute data (columns of the attribute table). The dataset also has a meta data document (metadaten.pdf) which contains valuable additional information about how to interpret the attributes.\n",
    "\n",
    "**Your turn:**\n",
    "- Using the meta data document, what attribute do you think is suitable for our bike indicator to distinguish what roads can be used by bikes (velos)?"
   ]
  },
  {
   "cell_type": "markdown",
   "id": "57ffbfaf-e3ee-402f-a92c-926fb1974fa1",
   "metadata": {
    "tags": []
   },
   "source": [
    "# Let's learn about the district data\n",
    "Let's now explore also the district data with the same two step approach, first let's find the name of the data layer and then use the name of the layer to get information about it. The data can be found in the data folder under 20220405_statistischeQuartiereZurich.\n",
    "\n",
    "**Your turn:**\n",
    "- What is the geometry type of the features?\n",
    "- How many features are there?\n",
    "- What is the coordinate reference system?\n",
    "- What columns does the attribute table have?"
   ]
  },
  {
   "cell_type": "markdown",
   "id": "de9b5039-fee9-46c7-a121-400691a98496",
   "metadata": {},
   "source": [
    "# Conclusion data exploration\n",
    "Upon exploration you saw that both datasets are in the new swiss coordinate reference system (CH1903+ / LV95) which is suitable for our usecase at the city level. You also found that the attribute `velo` seems to be a good indicator whether a road is suitable (1) for a bike or not (0). The data looks all good and you feel ready to load it into PostGIS."
   ]
  },
  {
   "cell_type": "markdown",
   "id": "c01455ce-bc1e-4020-b2a7-df4bed45d01d",
   "metadata": {
    "tags": []
   },
   "source": [
    "# Load the data into PostGIS\n",
    "`ogr2ogr` is an extremely powerful command line tool that converts between almost dataformats, for example from shapefile to a new PostGIS table. The following commands might look intimidating at first due to the many parameters, but we will explain them step by step later."
   ]
  },
  {
   "cell_type": "markdown",
   "id": "1bc2938c-1a59-4523-a223-a42853d4cfcb",
   "metadata": {
    "tags": []
   },
   "source": [
    "**Your turn:**\n",
    "- Replace DATABASE_NAME, HOST, PORT, USERNAME and PASSWORD in the commands below with the connection information of the PostGIS sandbox component.\n",
    "- Run both commands to load the data into the database."
   ]
  },
  {
   "cell_type": "markdown",
   "id": "575b93a0-6957-4165-9d9f-cb08989577be",
   "metadata": {},
   "source": [
    "Load the road network data:\n",
    "```shell\n",
    "ogr2ogr \\\n",
    "-f \"PostgreSQL\" \\\n",
    "-progress \\\n",
    "-nln \"zh_roads\" \\\n",
    "-nlt PROMOTE_TO_MULTI \\\n",
    "-lco FID=fid \\\n",
    "-lco GEOMETRY_NAME=geom \\\n",
    "--config OGR_TRUNCATE YES \\\n",
    "PG:\"dbname='DATABASE_NAME' host='HOST' port='PORT' user='USERNAME' password='PASSWORD'\" \\\n",
    "\"./data/20220405_veloFusswegnetzZurich/taz_mm.tbl_routennetz.shp\"\n",
    "```"
   ]
  },
  {
   "cell_type": "markdown",
   "id": "05fdddc1-b5a8-4e98-b714-e1393e4cd4c7",
   "metadata": {
    "jp-MarkdownHeadingCollapsed": true,
    "tags": []
   },
   "source": [
    "Load the districts data:\n",
    "\n",
    "```shell\n",
    "ogr2ogr \\\n",
    "-f \"PostgreSQL\" \\\n",
    "-progress \\\n",
    "-nln \"zh_districts\" \\\n",
    "-nlt PROMOTE_TO_MULTI \\\n",
    "-lco FID=fid \\\n",
    "-lco GEOMETRY_NAME=geom \\\n",
    "--config OGR_TRUNCATE YES \\\n",
    "PG:\"dbname='DATABASE_NAME' host='HOST' port='PORT' user='USERNAME' password='PASSWORD'\" \\\n",
    "\"./data/20220405_statistischeQuartiereZurich/stzh.adm_statzonen_v.shp\"\n",
    "```"
   ]
  },
  {
   "cell_type": "markdown",
   "id": "29995478-ecb6-4b40-a256-de9aea20993a",
   "metadata": {},
   "source": [
    "Let's have a look at the parameters:\n",
    "- `-f \"PostgreSQL\"` - Specify the target format to be a PostgreSQL (PostGIS) table.\n",
    "- `-progress` - Display a progress bar when loading the data.\n",
    "- `-nln \"zh_roads\"` - The name of the new database table should be zh_roads.\n",
    "- `-nlt PROMOTE_TO_MULTI` - If single and multi geometries are mixed, promote all to multi to have uniform geometries.\n",
    "- `-lco FID=fid` - Create a feature id column named fid.\n",
    "- `-lco GEOMETRY_NAME=geom` - Name the geometry column geom.\n",
    "- `--config OGR_TRUNCATE YES` - Drop all rows before loading data if a table with that name already exists. This allows overwrites existing data without destroying views on the data. \n",
    "- `PG:\"dbname='DATABASE_NAME' host='HOST' port='PORT' user='USERNAME' password='PASSWORD'\"` - A connection string holds all necessary data to establish a connection to the database. Replace DATABASE_NAME, HOST, PORT, USERNAME and PASSWORD with the connection information of the PostGIS sandbox component. \n",
    "- `\"./data/20220405_veloFusswegnetzZurich/taz_mm.tbl_routennetz.shp\"` - Path to the file to load.\n"
   ]
  },
  {
   "cell_type": "markdown",
   "id": "f86b7f02-c21a-4439-b97c-ddda811a52ba",
   "metadata": {
    "tags": []
   },
   "source": [
    "# Use pgAdmin to check the new tables in the database\n",
    "\n",
    "**Your turn:**\n",
    "- Use pgAdmin to connect to the database and make check if you see the new tables.\n",
    "\n",
    "![check tables](./story_images/check_tables.gif)"
   ]
  },
  {
   "cell_type": "code",
   "execution_count": null,
   "id": "5082b50c-281c-44f5-a584-d888d0e72cb3",
   "metadata": {},
   "outputs": [],
   "source": []
  }
 ],
 "metadata": {
  "kernelspec": {
   "display_name": "Python 3 (ipykernel)",
   "language": "python",
   "name": "python3"
  },
  "language_info": {
   "codemirror_mode": {
    "name": "ipython",
    "version": 3
   },
   "file_extension": ".py",
   "mimetype": "text/x-python",
   "name": "python",
   "nbconvert_exporter": "python",
   "pygments_lexer": "ipython3",
   "version": "3.8.10"
  }
 },
 "nbformat": 4,
 "nbformat_minor": 5
}
