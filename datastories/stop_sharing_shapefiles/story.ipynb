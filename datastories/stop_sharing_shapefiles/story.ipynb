{
 "cells": [
  {
   "cell_type": "markdown",
   "id": "9516e166-cef9-436b-855b-704ce41a9c14",
   "metadata": {
    "tags": []
   },
   "source": [
    "# Airports per country (please stop sending shapefiles)\n",
    "Here you will learn...\n",
    "- how to read shapefiles and csv files using python geopandas and then create PostGIS from this data.\n",
    "- how to read shapefiles and csv files using GDAL ogr2ogr to then create PostGIS from this data.\n",
    "- how to do a spatial query in PostGIS that counts points within polygons.\n",
    "- how to turn this spatial query into a view - a vitual table - that automatically updates as the underlying data does.\n",
    "- how to retrieve the data in QGIS to create a styled map."
   ]
  },
  {
   "cell_type": "markdown",
   "id": "9559a9f4-b320-4a26-8f32-f4974bef4b08",
   "metadata": {
    "tags": []
   },
   "source": [
    "## Scenario\n",
    "\n",
    "![airport count and gdp per country](./story_images/pop_per_airport.PNG)\n",
    "\n",
    "You are tasked by your boss to create a dataset which combines global airport and country data to display how many airports each country has. The underlying data will be updated on a weekly basis and it has to be easy to reflect these changes also on your dataset.\n",
    "\n",
    "To that end she sends you a NaturalEarth country shapefile and a csv with the airports. It is quite common at your company to share shapefiles with your colleagues. This has led to problems in the past whereby data inconsistency was a result of coworkers not always using the most updated version of the data and general frustration arose from keeping track of email attachments and download links.\n",
    "\n",
    "### The plan\n",
    "You plan to make use of a spatial database which can be accessed by your coworkers to reduce the number of flatfiles being sent around. Furthermore, you plan to process the data in the spatial database and create a view from the result, which will automatically update when the underlying data changes. You plan your work in 3 steps:\n",
    "1. Load shapefiles and csv into PostGIS.\n",
    "2. Write a spatial query to aggregate the data in PostGIS.\n",
    "3. Create a view from the result of the spatial query.\n",
    "4. Make sure that coworkers can access the data (e.g. via QGIS)."
   ]
  },
  {
   "cell_type": "markdown",
   "id": "346fd2e7-82bc-4f49-8052-c0fec94c906e",
   "metadata": {
    "tags": []
   },
   "source": [
    "# 1) Load data into PostGIS (with python)"
   ]
  },
  {
   "cell_type": "markdown",
   "id": "8d063bc8-4554-4082-aff4-fc2ef2400837",
   "metadata": {},
   "source": [
    "**Goal:** Create two postgis tables with the content of the NaturalEarth airport and country shapefiles.\n",
    "\n",
    "Apply same steps to both airports and countries NaturalEarth datasets:\n",
    "1. Read shapefile into geodataframes\n",
    "2. Establish a connection to the target postgis database.\n",
    "3. Use amazing geopandas' utility method to create new database tables from geodataframes."
   ]
  },
  {
   "cell_type": "markdown",
   "id": "40cf2f90-6df7-4037-b00f-39bbdb1b978e",
   "metadata": {},
   "source": [
    "#### 1. Read shapefile into geodataframes"
   ]
  },
  {
   "cell_type": "code",
   "execution_count": 16,
   "id": "6e147c1e-6c6d-4fbe-ae8e-96f9dd938840",
   "metadata": {},
   "outputs": [],
   "source": [
    "import geopandas as gpd\n",
    "\n",
    "# Airports data\n",
    "airports = gpd.read_file(\"./data/ne_10m_airports/ne_10m_airports_csv.csv\")\n",
    "airports = airports.set_crs('epsg:4326').drop(columns='WKT')"
   ]
  },
  {
   "cell_type": "code",
   "execution_count": 18,
   "id": "2fe6c2c1-3bec-4069-8ae9-fe0bf002243b",
   "metadata": {},
   "outputs": [],
   "source": [
    "# Country data\n",
    "countries = gpd.read_file(\"./data/ne_50m_admin_0_countries/ne_50m_admin_0_countries.shp\")"
   ]
  },
  {
   "cell_type": "markdown",
   "id": "1282ca11-078c-4387-8bbf-db1e4b10ddb0",
   "metadata": {},
   "source": [
    "Optional: Have a quick look at the airport dataset (next 3 cells). Feel free to also explore the country data."
   ]
  },
  {
   "cell_type": "code",
   "execution_count": null,
   "id": "2fc1becf-e170-4dfd-b506-16e631d1a3ee",
   "metadata": {},
   "outputs": [],
   "source": [
    "# Show first 3 rows\n",
    "airports.head(3)"
   ]
  },
  {
   "cell_type": "code",
   "execution_count": null,
   "id": "b30c40db-3fa1-45d9-a147-4e1b65af9302",
   "metadata": {},
   "outputs": [],
   "source": [
    "# Static visualization\n",
    "airports.plot()"
   ]
  },
  {
   "cell_type": "code",
   "execution_count": null,
   "id": "acdb1ce5-1297-4f7a-a58b-74a6b5590bd9",
   "metadata": {},
   "outputs": [],
   "source": [
    "# Interactive visualization\n",
    "airports.explore()"
   ]
  },
  {
   "cell_type": "markdown",
   "id": "907dbbcc-42f2-42b1-9e23-1e0359b4de82",
   "metadata": {},
   "source": [
    "#### 2. Establish a connection to the target postgis database."
   ]
  },
  {
   "cell_type": "code",
   "execution_count": null,
   "id": "c39ddb2d-11a6-4103-9b24-e972aace8aa7",
   "metadata": {},
   "outputs": [],
   "source": [
    "from sqlalchemy import create_engine\n",
    "\n",
    "# Postgis connection credentials:\n",
    "# Double check against connection info in sandbox' spatial database card!\n",
    "user = 'gis'\n",
    "password = 'gis'\n",
    "host = 'postgis-container'\n",
    "port = '5432'\n",
    "dbname = 'gis'\n",
    "\n",
    "# Establish connection\n",
    "conn_string = f'postgresql://{user}:{password}@{host}:{port}/{dbname}'\n",
    "engine = create_engine(conn_string)"
   ]
  },
  {
   "cell_type": "markdown",
   "id": "527bf2c9-b9ba-42ca-9223-b6d0f5b92a23",
   "metadata": {},
   "source": [
    "#### 3. Use amazing geopandas' utility method to create new database tables from geodataframes."
   ]
  },
  {
   "cell_type": "code",
   "execution_count": null,
   "id": "9a10c4ff-bf33-4350-8cbf-13a990c173a7",
   "metadata": {},
   "outputs": [],
   "source": [
    "# Create database tables from geodataframes\n",
    "airports.to_postgis(\n",
    "    con=engine,\n",
    "    name=\"ne_airports\",\n",
    "    if_exists=\"replace\",\n",
    "    schema=\"public\"\n",
    ")\n",
    "countries.to_postgis(\n",
    "    con=engine,\n",
    "    name=\"ne_countries\",\n",
    "    if_exists=\"replace\",\n",
    "    schema=\"public\"\n",
    ")"
   ]
  },
  {
   "cell_type": "markdown",
   "id": "cccb72a8-f05d-4fab-9b12-50ae85547ac9",
   "metadata": {},
   "source": [
    "You should now be able to connect to the sandbox postgis database and see the new tables which hold the data - **congratulation!** The animation below shows you how to connect to postgis via pgadmin and check the new tables.\n",
    "\n",
    "![connect to sandbox postgis and check tables](./story_images/postgis_tables.gif)"
   ]
  },
  {
   "cell_type": "markdown",
   "id": "22282a3a-3e8c-42e4-8866-b76628f15608",
   "metadata": {},
   "source": [
    "## Alternative: Load data into PostGIS (with GDAL ogr2ogr)"
   ]
  },
  {
   "cell_type": "markdown",
   "id": "98c6fcb8-4789-41c1-8d42-4a10d6b247f7",
   "metadata": {
    "tags": []
   },
   "source": [
    "This section is achieving the same goal as the previous one but with a different tool. [Ogr2ogr](https://gdal.org/programs/ogr2ogr.html) is an extremely powerful GDAL utility program to convert simple features between virtually all formats via the command line. As such it is also suitable to load shapefiles to postgis. \n",
    "\n",
    "If you open a terminal and navigate to the location of this notebook, you can load the airports shapefile directly into a postgis table with name ne_airports_from_ogr2ogr with a single command.\n",
    "\n",
    "```shell\n",
    "ogr2ogr -f \"PostgreSQL\" -nln \"ne_airports_from_ogr2ogr\" -nlt PROMOTE_TO_MULTI --config OGR_TRUNCATE YES PG:\"host=postgis-container port=5432 dbname=gis user=gis password=gis\" \"./data/ne_10m_airports/ne_10m_airports.shp\"\n",
    "```\n",
    "\n",
    "Arguments used:\n",
    "- f: Use [Postgresql/Postgis driver](https://gdal.org/drivers/vector/pg.html)\n",
    "- PG: Connection details for target postgis database. Look up postgis connection credentials from sandbox' spatial database card.\n",
    "- [nln](https://gdal.org/programs/ogr2ogr.html#cmdoption-ogr2ogr-nln): Target table name.\n",
    "- [nlt](https://gdal.org/programs/ogr2ogr.html#cmdoption-ogr2ogr-nlt): Geometry type options for new layer. PROMOTE_TO_MULTI converts all features to multipolygons for consistency.\n",
    "- [config](https://gdal.org/drivers/vector/pg.html#configuration-options): Configuration options. Set OGR_TRUNCATE to YES to erase table content before updating. Nice detail to know: Does not destroy views. \n",
    "\n",
    "```shell\n",
    "ogr2ogr -f PostgreSQL PG:\"host=postgis-container dbname=gis user=gis password=gis\"  docs.csv -oo AUTODETECT_TYPE=YES -oo X_POSSIBLE_NAMES=longitude -oo Y_POSSIBLE_NAMES=latitude -oo KEEP_GEOM_COLUMNS=NO\n",
    "```\n",
    "\n",
    "??? -s_srs EPSG:4326\n",
    "\n",
    "Arguments used:\n",
    "- [open options (oo)](https://gdal.org/drivers/vector/csv.html#open-options): AUTODETECT_TYPE=YES will attempt to autodetect the type of columsn. X_POSSIBLE_NAMES and Y_POSSIBLE_NAMES can be used to specify what columns hold coordinates. KEEP_GEOM_COLUMNS=NO indicates that the coordinate columns should not be part of the attribute table.\n",
    "\n",
    "\n",
    "By the way, you can even [execute shell commands](https://coderefinery.org/jupyter/extra-features/#shell-commands) directly in a jupyter notebook cell by prefixing it with an exclamation mark (!).\n",
    "\n",
    "\n",
    "There is no right or wrong when it comes to which approach to use. You might prefer the python approach if your technology stack involves python scripts or you want to do preprocessing using python geo-ecosystem. In other cases you might want to prefer a command line one-liner as a quick and easy way to integrate this operation in your non-pythonic ETL stack."
   ]
  },
  {
   "cell_type": "markdown",
   "id": "af9fa4f5-d216-4fa8-ba95-9a026c0b4f74",
   "metadata": {},
   "source": [
    "# Part 2 - Data aggregation in postgis"
   ]
  },
  {
   "cell_type": "markdown",
   "id": "8a1907db-92a8-423b-b1f8-bb5ad8fce1de",
   "metadata": {},
   "source": [
    "WORK IN PROGRESS"
   ]
  },
  {
   "cell_type": "markdown",
   "id": "5ba3c344-3a5b-466b-ae36-01fe198f975b",
   "metadata": {},
   "source": [
    "Simple query with airport count:\n",
    "```sql\n",
    "SELECT c.\"NAME\" as name, COUNT(a.geometry) AS count_airports \n",
    "FROM ne_countries AS c, ne_airports AS a\n",
    "WHERE st_contains(c.geometry,a.geometry)\n",
    "GROUP BY c.\"NAME\";\n",
    "```\n",
    "\n",
    "Query with airport count and average GDP per airport:\n",
    "```sql\n",
    "SELECT \n",
    "    c.\"NE_ID\" AS objectid,\n",
    "    c.\"NAME\" AS country_name, \n",
    "    COUNT(a.ne_id) AS count_airports,\n",
    "    c.\"GDP_MD\" AS gdp_musd,\n",
    "    ROUND(c.\"GDP_MD\" / COUNT(a.ne_id)) AS gdp_per_airport,\n",
    "    c.geometry AS geometry\n",
    "FROM ne_countries AS c, ne_airports AS a\n",
    "WHERE st_contains(c.geometry,a.geometry)\n",
    "GROUP BY c.\"NE_ID\", c.\"NAME\", c.\"GDP_MD\", c.geometry;\n",
    "```\n",
    "\n",
    "Create a view:\n",
    "```sql\n",
    "CREATE or REPLACE VIEW airports_per_country AS\n",
    "    SELECT \n",
    "        c.\"NE_ID\" AS objectid,\n",
    "        c.\"NAME\" AS country_name, \n",
    "        COUNT(a.ne_id) AS count_airports,\n",
    "        c.\"GDP_MD\" AS gdp_musd,\n",
    "        ROUND(c.\"GDP_MD\" / COUNT(a.ne_id)) AS gdp_per_airport,\n",
    "        c.geometry AS geometry\n",
    "    FROM ne_countries AS c, ne_airports AS a\n",
    "    WHERE st_contains(c.geometry,a.geometry)\n",
    "    GROUP BY c.\"NE_ID\", c.\"NAME\", c.\"GDP_MD\", c.geometry;\n",
    "```"
   ]
  },
  {
   "cell_type": "code",
   "execution_count": null,
   "id": "850e02d7-b7ac-4f12-955a-1dbff0aec2d1",
   "metadata": {},
   "outputs": [],
   "source": []
  }
 ],
 "metadata": {
  "kernelspec": {
   "display_name": "Python 3 (ipykernel)",
   "language": "python",
   "name": "python3"
  },
  "language_info": {
   "codemirror_mode": {
    "name": "ipython",
    "version": 3
   },
   "file_extension": ".py",
   "mimetype": "text/x-python",
   "name": "python",
   "nbconvert_exporter": "python",
   "pygments_lexer": "ipython3",
   "version": "3.9.9"
  }
 },
 "nbformat": 4,
 "nbformat_minor": 5
}
